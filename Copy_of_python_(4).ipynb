{
  "cells": [
    {
      "cell_type": "markdown",
      "metadata": {
        "id": "view-in-github",
        "colab_type": "text"
      },
      "source": [
        "<a href=\"https://colab.research.google.com/github/Vijay200417/Vijay200417/blob/main/Copy_of_python_(4).ipynb\" target=\"_parent\"><img src=\"https://colab.research.google.com/assets/colab-badge.svg\" alt=\"Open In Colab\"/></a>"
      ]
    },
    {
      "cell_type": "markdown",
      "id": "64aa709e-3732-47ff-9d85-2a8299a477fd",
      "metadata": {
        "id": "64aa709e-3732-47ff-9d85-2a8299a477fd"
      },
      "source": [
        "### What is Python?\n",
        "- High-level, interpreted language known for its simplicity and readability.<br>\n",
        "### Key Features:\n",
        "- Open-source, extensive libraries, cross-platform."
      ]
    },
    {
      "cell_type": "markdown",
      "id": "40a3a280-330b-4222-afa0-ce9f038442a1",
      "metadata": {
        "id": "40a3a280-330b-4222-afa0-ce9f038442a1"
      },
      "source": [
        "### print statement"
      ]
    },
    {
      "cell_type": "code",
      "execution_count": null,
      "id": "70ed4c90-f31f-4449-bd43-acea8d4642d6",
      "metadata": {
        "id": "70ed4c90-f31f-4449-bd43-acea8d4642d6",
        "outputId": "acc48981-3828-4bb2-d404-ca882f22e406"
      },
      "outputs": [
        {
          "name": "stdout",
          "output_type": "stream",
          "text": [
            "Welcome to AI class\n"
          ]
        }
      ],
      "source": [
        "print(\"Welcome to AI class\")"
      ]
    },
    {
      "cell_type": "markdown",
      "id": "1e1536dc-8aa1-4ce3-afe0-57b413b12f26",
      "metadata": {
        "id": "1e1536dc-8aa1-4ce3-afe0-57b413b12f26"
      },
      "source": [
        "<h5>Variables are like a box that can store items</h5>\n",
        "Name of variables<br>\n",
        "<ol>\n",
        "<li>should start with a alphabet or underscore</li>\n",
        "<li>Its case sensitive eg: A and a are different </li>\n",
        "<li>should not start with numbers</li>\n",
        "<li>should not be a inbuilt keyword in python eg:if,else,for </li>\n",
        "<li>variable name can contain A-Z,a-z,0-9,_\n",
        "</li></ol>"
      ]
    },
    {
      "cell_type": "markdown",
      "id": "04b0a308-a693-4e95-b9a3-fb5878ccbbba",
      "metadata": {
        "id": "04b0a308-a693-4e95-b9a3-fb5878ccbbba"
      },
      "source": [
        "<img src=\"https://th.bing.com/th/id/R.6e5900d22fd23a35661275c72190f792?rik=n8pOybuyd7iQTg&riu=http%3a%2f%2finventwithpython.com%2fhacking%2fchapter3_files%2fimage007.jpg&ehk=Bmd86viGYlFBvKZyCWyf3D4CS%2f3iyCorWXfZYpuTLTY%3d&risl=&pid=ImgRaw&r=0\">"
      ]
    },
    {
      "cell_type": "code",
      "execution_count": null,
      "id": "eb41ffb7-eeca-4111-99b6-91477e98aefd",
      "metadata": {
        "id": "eb41ffb7-eeca-4111-99b6-91477e98aefd",
        "outputId": "68b42b81-6d5b-46b8-8be5-3e71147abcb1"
      },
      "outputs": [
        {
          "name": "stdout",
          "output_type": "stream",
          "text": [
            "the fruit is apple the quantity is 3 cost price 20 selling_price 30 item orange colour orange\n"
          ]
        }
      ],
      "source": [
        "fruit= \"apple\"\n",
        "quantity=3\n",
        "cost_price,selling_price=20,30\n",
        "item=colour=\"orange\"\n",
        "print(\"the fruit is\",fruit,\"the quantity is\",quantity,\"cost price\",cost_price,\"selling_price\",selling_price,\"item\",item,\"colour\",colour)"
      ]
    },
    {
      "cell_type": "markdown",
      "id": "1b2c59ea-6bde-4d7f-b8dc-b4850dea1ece",
      "metadata": {
        "id": "1b2c59ea-6bde-4d7f-b8dc-b4850dea1ece"
      },
      "source": [
        "### INPUT STATEMENT\n",
        "It is used to get the value from user during the run time"
      ]
    },
    {
      "cell_type": "code",
      "execution_count": null,
      "id": "57045caf-2e02-4f54-9f54-7abd64cb85ad",
      "metadata": {
        "id": "57045caf-2e02-4f54-9f54-7abd64cb85ad",
        "outputId": "81011fc2-4ce3-490b-bffc-eed9259b1741"
      },
      "outputs": [
        {
          "name": "stdin",
          "output_type": "stream",
          "text": [
            "enter your name: lisa\n",
            "enter your class: 10\n"
          ]
        }
      ],
      "source": [
        "name=input(\"enter your name:\")\n",
        "Class=input(\"enter your class:\")\n",
        "#Class and class are different in python cause of case sensitive\n",
        "#class=input(\"enter your class:\")"
      ]
    },
    {
      "cell_type": "code",
      "execution_count": null,
      "id": "a476a7ad-96cc-4765-b5b1-032b24b7abff",
      "metadata": {
        "id": "a476a7ad-96cc-4765-b5b1-032b24b7abff",
        "outputId": "f37ec36d-21d3-40af-a805-b29f2d54600d"
      },
      "outputs": [
        {
          "name": "stdout",
          "output_type": "stream",
          "text": [
            "lisa\n",
            "10\n"
          ]
        }
      ],
      "source": [
        "print(name)\n",
        "print(Class)\n"
      ]
    },
    {
      "cell_type": "markdown",
      "id": "67785b44-4bce-4a8f-b8ac-4b64509ff67a",
      "metadata": {
        "id": "67785b44-4bce-4a8f-b8ac-4b64509ff67a"
      },
      "source": [
        "### PLACEHOLDERS\n",
        "placeholders are used in strings to insert values dynamically. Placeholders allow variables or expressions to be embedded within strings."
      ]
    },
    {
      "cell_type": "code",
      "execution_count": null,
      "id": "6e42deb4-b7f8-4b8a-bfc6-181cea0a986f",
      "metadata": {
        "id": "6e42deb4-b7f8-4b8a-bfc6-181cea0a986f",
        "outputId": "81a05e0d-6ab6-45a8-9bba-2ccfa159a397"
      },
      "outputs": [
        {
          "name": "stdout",
          "output_type": "stream",
          "text": [
            "Course name AI session 1 on Wednesday\n",
            "Course name AI session 1 on Wednesday\n",
            "Course name AI session 1 on Wednesday\n",
            "Course name AI session 1 on Wednesday\n",
            "Course name AI session 1 on Wednesday\n",
            "Course name AI session 1 on Wednesday\n"
          ]
        }
      ],
      "source": [
        "A=\"AI\"\n",
        "B=1\n",
        "C=\"Wednesday\"\n",
        "print(\"Course name\",A,\"session\",B,\"on\",C)\n",
        "print(\"Course name %s session %d on %s\"%(A,B,C)) # %s- string, %d- integer , %f- float\n",
        "print(f\"Course name {A} session {B} on {C}\") # it is avaliable in python 3.6 and above versions\n",
        "#format\n",
        "print(\"Course name {} session {} on {}\".format(A,B,C))\n",
        "print(\"Course name {0} session {1} on {2}\".format(A,B,C))\n",
        "print(\"Course name {D} session {E} on {F}\".format(D=A,E=B,F=C))"
      ]
    },
    {
      "cell_type": "markdown",
      "id": "188478d4-8930-4577-a844-5b35f29336e4",
      "metadata": {
        "id": "188478d4-8930-4577-a844-5b35f29336e4"
      },
      "source": [
        "### Comments\n",
        "for single line use #\n",
        "\n",
        "for multiple lines use triple quotes '''"
      ]
    },
    {
      "cell_type": "code",
      "execution_count": null,
      "id": "e81bf577-1999-4123-8af2-f12e08251b57",
      "metadata": {
        "id": "e81bf577-1999-4123-8af2-f12e08251b57",
        "outputId": "57047e64-6941-4a57-c6d3-fdae3e171ef8"
      },
      "outputs": [
        {
          "name": "stdout",
          "output_type": "stream",
          "text": [
            "single\n",
            "multiple line\n"
          ]
        }
      ],
      "source": [
        "#its for single line\n",
        "print(\"single\")\n",
        "\n",
        "'''it is for multiple\n",
        "lines comment'''\n",
        "\n",
        "print(\"multiple line\")\n"
      ]
    },
    {
      "cell_type": "markdown",
      "id": "cb146453-54a6-40af-8d83-e2682042a1c8",
      "metadata": {
        "id": "cb146453-54a6-40af-8d83-e2682042a1c8"
      },
      "source": [
        "### Data types\n",
        "<img src=\"https://media.geeksforgeeks.org/wp-content/uploads/20191023173512/Python-data-structure.jpg\" >\n",
        "\n"
      ]
    },
    {
      "cell_type": "markdown",
      "id": "bf903fdf-8b7a-4efe-9d6e-21cfce9e5bed",
      "metadata": {
        "id": "bf903fdf-8b7a-4efe-9d6e-21cfce9e5bed"
      },
      "source": [
        "### Numeric\n",
        "<ul>\n",
        "    <li>integer</li>\n",
        "    <li>float</li>\n",
        "    <li>complex number</li>\n",
        "</ul>"
      ]
    },
    {
      "cell_type": "code",
      "execution_count": null,
      "id": "de90530f-3b68-4704-aeb7-e7dae6a3ecb3",
      "metadata": {
        "id": "de90530f-3b68-4704-aeb7-e7dae6a3ecb3",
        "outputId": "629ad7bb-eeca-43e4-a5c1-6ca03ba42f81"
      },
      "outputs": [
        {
          "name": "stdout",
          "output_type": "stream",
          "text": [
            "<class 'int'>\n"
          ]
        }
      ],
      "source": [
        "\n",
        "age=12\n",
        "print(type(age))"
      ]
    },
    {
      "cell_type": "code",
      "execution_count": null,
      "id": "aacbb8c1-6f51-482f-8dfa-582c02d45ba3",
      "metadata": {
        "id": "aacbb8c1-6f51-482f-8dfa-582c02d45ba3",
        "outputId": "3d10b85e-4ca0-4682-e9d0-5dd567e904d5"
      },
      "outputs": [
        {
          "name": "stdout",
          "output_type": "stream",
          "text": [
            "<class 'float'>\n",
            "12\n"
          ]
        }
      ],
      "source": [
        "height=156.6\n",
        "print(type(height))\n",
        "print(\"12\")"
      ]
    },
    {
      "cell_type": "code",
      "execution_count": null,
      "id": "0c0daaf9-8d6e-4f74-8079-dedca2b5392f",
      "metadata": {
        "id": "0c0daaf9-8d6e-4f74-8079-dedca2b5392f",
        "outputId": "1b1672c1-98eb-4e0f-abeb-eaeb14d10196"
      },
      "outputs": [
        {
          "name": "stdout",
          "output_type": "stream",
          "text": [
            "<class 'complex'>\n"
          ]
        }
      ],
      "source": [
        "complex=15+2j\n",
        "print(type(complex))\n"
      ]
    },
    {
      "cell_type": "markdown",
      "id": "38b6ca1d-787b-4977-bf18-1b3df9571163",
      "metadata": {
        "id": "38b6ca1d-787b-4977-bf18-1b3df9571163"
      },
      "source": [
        "### boolean\n",
        "in boolean the first letter need to capital"
      ]
    },
    {
      "cell_type": "code",
      "execution_count": null,
      "id": "e05bf345-700e-4b06-bb4b-45549698f6a2",
      "metadata": {
        "id": "e05bf345-700e-4b06-bb4b-45549698f6a2",
        "outputId": "2506ba29-2451-4b0a-fab3-00de583e579a"
      },
      "outputs": [
        {
          "name": "stdout",
          "output_type": "stream",
          "text": [
            "<class 'bool'>\n",
            "True\n",
            "False\n"
          ]
        }
      ],
      "source": [
        "a=True\n",
        "print(type(a))\n",
        "print(10>9)\n",
        "print(9>10)"
      ]
    },
    {
      "cell_type": "markdown",
      "id": "901c920b-d424-4b5d-8fb7-de9b728a47e5",
      "metadata": {
        "id": "901c920b-d424-4b5d-8fb7-de9b728a47e5"
      },
      "source": [
        "### String"
      ]
    },
    {
      "cell_type": "code",
      "execution_count": null,
      "id": "a92d14fd-bb2e-4cfa-83f1-e87cd9fec35c",
      "metadata": {
        "id": "a92d14fd-bb2e-4cfa-83f1-e87cd9fec35c",
        "outputId": "91c68dcb-9e86-422d-9862-ff3546d3821e"
      },
      "outputs": [
        {
          "name": "stdout",
          "output_type": "stream",
          "text": [
            "hello world\n",
            "<class 'str'>\n"
          ]
        }
      ],
      "source": [
        "string=\"hello world\"\n",
        "print(string)\n",
        "print(type(string))"
      ]
    },
    {
      "cell_type": "markdown",
      "id": "0896f1ea-a270-4488-999c-0442304f885c",
      "metadata": {
        "id": "0896f1ea-a270-4488-999c-0442304f885c"
      },
      "source": [
        "### SLICING\n"
      ]
    },
    {
      "cell_type": "markdown",
      "id": "7ff0bd9a-41b0-4ed7-84e2-206337f0ba75",
      "metadata": {
        "id": "7ff0bd9a-41b0-4ed7-84e2-206337f0ba75"
      },
      "source": [
        "### SYNTAX:\n",
        "### VARIABLE_NAME[start:stop:step]\n",
        "start: The index to start the slice (inclusive).<br>\n",
        "stop: The index to stop the slice (exclusive).<br>\n",
        "step: The interval or step size to use in the slice"
      ]
    },
    {
      "cell_type": "markdown",
      "id": "360219cb-4288-48b4-95df-0b5079bfc3f5",
      "metadata": {
        "id": "360219cb-4288-48b4-95df-0b5079bfc3f5"
      },
      "source": [
        "<table style=\"border-collapse: collapse; width: 100%; box-shadow: 0px 4px 8px rgba(0, 0, 0, 0.2); font-family: Arial, sans-serif;\">\n",
        "    <!-- Positive Indices Row -->\n",
        "    <tr style=\"background-color: #d0e2f2;\">\n",
        "        <td style=\"padding: 10px 15px; text-align: center; border: 1px solid #ddd; font-weight: bold;\">0</td>\n",
        "        <td style=\"padding: 10px 15px; text-align: center; border: 1px solid #ddd; font-weight: bold;\">1</td>\n",
        "        <td style=\"padding: 10px 15px; text-align: center; border: 1px solid #ddd; font-weight: bold;\">2</td>\n",
        "        <td style=\"padding: 10px 15px; text-align: center; border: 1px solid #ddd; font-weight: bold;\">3</td>\n",
        "        <td style=\"padding: 10px 15px; text-align: center; border: 1px solid #ddd; font-weight: bold;\">4</td>\n",
        "        <td style=\"padding: 10px 15px; text-align: center; border: 1px solid #ddd; font-weight: bold;\">5</td>\n",
        "        <td style=\"padding: 10px 15px; text-align: center; border: 1px solid #ddd; font-weight: bold;\">6</td>\n",
        "        <td style=\"padding: 10px 15px; text-align: center; border: 1px solid #ddd; font-weight: bold;\">7</td>\n",
        "        <td style=\"padding: 10px 15px; text-align: center; border: 1px solid #ddd; font-weight: bold;\">8</td>\n",
        "        <td style=\"padding: 10px 15px; text-align: center; border: 1px solid #ddd; font-weight: bold;\">9</td>\n",
        "        <td style=\"padding: 10px 15px; text-align: center; border: 1px solid #ddd; font-weight: bold;\">10</td>\n",
        "    </tr>\n",
        "    <!-- Characters Row -->\n",
        "    <tr style=\"background-color: #ffffff;\">\n",
        "        <td style=\"padding: 10px 15px; text-align: center; border: 1px solid #ddd; font-weight: bold; font-size: 18px; color: #333;\">H</td>\n",
        "        <td style=\"padding: 10px 15px; text-align: center; border: 1px solid #ddd; font-weight: bold; font-size: 18px; color: #333;\">E</td>\n",
        "        <td style=\"padding: 10px 15px; text-align: center; border: 1px solid #ddd; font-weight: bold; font-size: 18px; color: #333;\">L</td>\n",
        "        <td style=\"padding: 10px 15px; text-align: center; border: 1px solid #ddd; font-weight: bold; font-size: 18px; color: #333;\">L</td>\n",
        "        <td style=\"padding: 10px 15px; text-align: center; border: 1px solid #ddd; font-weight: bold; font-size: 18px; color: #333;\">O</td>\n",
        "        <td style=\"padding: 10px 15px; text-align: center; border: 1px solid #ddd;\"></td>\n",
        "        <td style=\"padding: 10px 15px; text-align: center; border: 1px solid #ddd; font-weight: bold; font-size: 18px; color: #333;\">W</td>\n",
        "        <td style=\"padding: 10px 15px; text-align: center; border: 1px solid #ddd; font-weight: bold; font-size: 18px; color: #333;\">O</td>\n",
        "        <td style=\"padding: 10px 15px; text-align: center; border: 1px solid #ddd; font-weight: bold; font-size: 18px; color: #333;\">R</td>\n",
        "        <td style=\"padding: 10px 15px; text-align: center; border: 1px solid #ddd; font-weight: bold; font-size: 18px; color: #333;\">L</td>\n",
        "        <td style=\"padding: 10px 15px; text-align: center; border: 1px solid #ddd; font-weight: bold; font-size: 18px; color: #333;\">D</td>\n",
        "    </tr>\n",
        "    <!-- Negative Indices Row -->\n",
        "    <tr style=\"background-color: #f2d0d0;\">\n",
        "        <td style=\"padding: 10px 15px; text-align: center; border: 1px solid #ddd; font-weight: bold;\">-11</td>\n",
        "        <td style=\"padding: 10px 15px; text-align: center; border: 1px solid #ddd; font-weight: bold;\">-10</td>\n",
        "        <td style=\"padding: 10px 15px; text-align: center; border: 1px solid #ddd; font-weight: bold;\">-9</td>\n",
        "        <td style=\"padding: 10px 15px; text-align: center; border: 1px solid #ddd; font-weight: bold;\">-8</td>\n",
        "        <td style=\"padding: 10px 15px; text-align: center; border: 1px solid #ddd; font-weight: bold;\">-7</td>\n",
        "        <td style=\"padding: 10px 15px; text-align: center; border: 1px solid #ddd; font-weight: bold;\">-6</td>\n",
        "        <td style=\"padding: 10px 15px; text-align: center; border: 1px solid #ddd; font-weight: bold;\">-5</td>\n",
        "        <td style=\"padding: 10px 15px; text-align: center; border: 1px solid #ddd; font-weight: bold;\">-4</td>\n",
        "        <td style=\"padding: 10px 15px; text-align: center; border: 1px solid #ddd; font-weight: bold;\">-3</td>\n",
        "        <td style=\"padding: 10px 15px; text-align: center; border: 1px solid #ddd; font-weight: bold;\">-2</td>\n",
        "        <td style=\"padding: 10px 15px; text-align: center; border: 1px solid #ddd; font-weight: bold;\">-1</td>\n",
        "    </tr>\n",
        "</table>\n"
      ]
    },
    {
      "cell_type": "code",
      "execution_count": null,
      "id": "f181ec28-c0b6-4a6d-99ec-4998e400e395",
      "metadata": {
        "id": "f181ec28-c0b6-4a6d-99ec-4998e400e395",
        "outputId": "7153e4ea-b415-4560-91a6-8e61ab6f7ca6"
      },
      "outputs": [
        {
          "name": "stdout",
          "output_type": "stream",
          "text": [
            "hell\n",
            "hello world\n",
            "world\n",
            "hlowrd\n",
            "hlowrd\n",
            "hello w\n",
            "hello world\n",
            "worl\n",
            "hello world\n",
            "dooe\n"
          ]
        }
      ],
      "source": [
        "print(string[0:4]) # hell\n",
        "print(string[0:11]) # hello world\n",
        "print(string[6:]) # world\n",
        "print(string[0:11:2]) # hlowrd\n",
        "print(string[::2]) # hlowrd\n",
        "print(string[:7]) # hello w\n",
        "print(string[::]) # hello world\n",
        "print(string[-5:-1]) # worl\n",
        "print(string[-11:]) # hello world\n",
        "print(string[::-3]) # dooe"
      ]
    },
    {
      "cell_type": "code",
      "execution_count": null,
      "id": "8ed362fd-c2f7-4b32-90d6-a09b85df69fd",
      "metadata": {
        "id": "8ed362fd-c2f7-4b32-90d6-a09b85df69fd",
        "outputId": "12ddeba9-18ea-4f7b-bd07-30ced8d0143d"
      },
      "outputs": [
        {
          "name": "stdout",
          "output_type": "stream",
          "text": [
            "dlrow olleh\n"
          ]
        }
      ],
      "source": [
        "#Reversing\n",
        "print(string[::-1])"
      ]
    },
    {
      "cell_type": "code",
      "execution_count": null,
      "id": "4168af5d-57a9-462d-bb7b-c9358996a9cd",
      "metadata": {
        "id": "4168af5d-57a9-462d-bb7b-c9358996a9cd",
        "outputId": "c4f2c9f7-8c46-4cf8-dd62-67fb2a024906"
      },
      "outputs": [
        {
          "name": "stdout",
          "output_type": "stream",
          "text": [
            "hello worldStudents\n",
            "hello world students\n"
          ]
        }
      ],
      "source": [
        "#concatenation\n",
        "print(string+\"Students\")\n",
        "print(string,\"students\")"
      ]
    },
    {
      "cell_type": "code",
      "execution_count": null,
      "id": "0687d460-b0dc-4241-90ff-31515a9015b5",
      "metadata": {
        "id": "0687d460-b0dc-4241-90ff-31515a9015b5",
        "outputId": "01349a84-6cb6-45e9-f442-a8bd19f1b91a"
      },
      "outputs": [
        {
          "name": "stdout",
          "output_type": "stream",
          "text": [
            "hello hello hello \n"
          ]
        }
      ],
      "source": [
        "#REPEATATION\n",
        "print(\"hello \"*3)"
      ]
    },
    {
      "cell_type": "markdown",
      "id": "8157c615-14f8-4317-8bf6-63be4b2ce4c0",
      "metadata": {
        "id": "8157c615-14f8-4317-8bf6-63be4b2ce4c0"
      },
      "source": [
        "### type casting / type conversion\n",
        " Python automatically converts one data type to another. This is known as implicit type conversion."
      ]
    },
    {
      "cell_type": "code",
      "execution_count": null,
      "id": "31bc254c-da0f-4dd4-a992-62c974c2d70d",
      "metadata": {
        "id": "31bc254c-da0f-4dd4-a992-62c974c2d70d",
        "outputId": "7805dea5-4de6-48be-f1cd-9d9bae5a8da1"
      },
      "outputs": [
        {
          "name": "stdout",
          "output_type": "stream",
          "text": [
            "15.6\n",
            "item1= 6 <class 'int'>\n",
            "item2= 9.6 <class 'float'>\n",
            "item3= 15.6 <class 'float'>\n"
          ]
        }
      ],
      "source": [
        "item1=6\n",
        "item2=9.6\n",
        "item3=item1+item2\n",
        "print(item3)\n",
        "print(\"item1=\",item1,type(item1))\n",
        "print(\"item2=\",item2,type(item2))\n",
        "print(\"item3=\",item3,type(item3))\n"
      ]
    },
    {
      "cell_type": "markdown",
      "id": "7880f746-0495-4d37-963f-347738f69936",
      "metadata": {
        "id": "7880f746-0495-4d37-963f-347738f69936"
      },
      "source": [
        "### Explicit Type Conversion\n",
        "In Explicit Type Conversion, users convert the data type of an object to required data type."
      ]
    },
    {
      "cell_type": "code",
      "execution_count": null,
      "id": "0cd81ba8-a54c-48b7-b723-d16602aa4617",
      "metadata": {
        "id": "0cd81ba8-a54c-48b7-b723-d16602aa4617",
        "outputId": "c014875c-b585-41d8-9829-49fbcc835664"
      },
      "outputs": [
        {
          "name": "stdout",
          "output_type": "stream",
          "text": [
            "15\n",
            "item4= 15 <class 'int'>\n"
          ]
        }
      ],
      "source": [
        "item1=6\n",
        "item2=9.6\n",
        "item4=item1+int(item2) #6+9=15\n",
        "print(item4)\n",
        "print(\"item4=\",item4,type(item4))"
      ]
    },
    {
      "cell_type": "code",
      "execution_count": null,
      "id": "aed63970-0a3f-460c-a9c9-39cc8d0e5be1",
      "metadata": {
        "id": "aed63970-0a3f-460c-a9c9-39cc8d0e5be1",
        "outputId": "70182ac1-c85c-4117-99b4-86f62a2c89d5"
      },
      "outputs": [
        {
          "name": "stdin",
          "output_type": "stream",
          "text": [
            "enter a number 9\n"
          ]
        },
        {
          "name": "stdout",
          "output_type": "stream",
          "text": [
            "new 9.0 <class 'float'>\n",
            "19.0\n"
          ]
        }
      ],
      "source": [
        "new=float(input(\"enter a number\"))\n",
        "#int->float\n",
        "print(\"new\",new,type(new))\n",
        "a=10+new\n",
        "print(a)"
      ]
    },
    {
      "cell_type": "code",
      "execution_count": null,
      "id": "ab492b5e-007e-4d87-b709-356f9a968e78",
      "metadata": {
        "id": "ab492b5e-007e-4d87-b709-356f9a968e78",
        "outputId": "a00e2ab4-afc5-4fe7-ff5f-ee036d1fb3c8"
      },
      "outputs": [
        {
          "name": "stdout",
          "output_type": "stream",
          "text": [
            "60\n",
            "<class 'int'>\n",
            "<class 'str'>\n",
            "2040 <class 'str'>\n"
          ]
        }
      ],
      "source": [
        "name=\"julie\"\n",
        "roll_no=40\n",
        "print(20+roll_no) #20+40=60\n",
        "print(type(roll_no)) #int\n",
        "roll_no=str(40)\n",
        "print(type(roll_no))\n",
        "#str\n",
        "a=\"20\"\n",
        "print(a+roll_no,type(a+roll_no))\n",
        "#print(a+40) # error cause we changed the \"a\" to string value"
      ]
    },
    {
      "cell_type": "markdown",
      "id": "69b17745-018c-40c2-932e-0abae10d90be",
      "metadata": {
        "id": "69b17745-018c-40c2-932e-0abae10d90be"
      },
      "source": [
        "# List\n",
        "- **Mutable**: Can be modified (elements can be added, removed, or changed).\n",
        "- **Ordered**: Maintains the insertion order of elements.\n",
        "- **Indexed**: Elements can be accessed by index (supports slicing).\n",
        "- **Allows Duplicates**: Can contain duplicate values.\n",
        "- **Declaration**: `list_variable = [element1, element2, ...]`\n",
        "- **Common Methods**: `append()`, `extend()`, `insert()`, `remove()`, `pop()`, `sort()`, `reverse()`\n",
        "- **Data types allowed**: `int,float,str,boolean,nested list,tuple,dictionary,sets,None`"
      ]
    },
    {
      "cell_type": "code",
      "execution_count": null,
      "id": "3d55c214-40c4-4ccd-82a8-e033656bde44",
      "metadata": {
        "id": "3d55c214-40c4-4ccd-82a8-e033656bde44",
        "outputId": "d6956e20-1769-4648-b8a3-5f445d3db142"
      },
      "outputs": [
        {
          "name": "stdout",
          "output_type": "stream",
          "text": [
            "['hello', 'world', 1.3, 100, (2, 4), True, {'A': 'ME'}, None]\n",
            "<class 'list'>\n",
            "(2, 4) <class 'tuple'>\n",
            "['hello', 0.99, 1.3, 100, (2, 4), True, {'A': 'ME'}, None]\n"
          ]
        },
        {
          "data": {
            "text/plain": [
              "NoneType"
            ]
          },
          "execution_count": 15,
          "metadata": {},
          "output_type": "execute_result"
        }
      ],
      "source": [
        "list1=[\"hello\",\"world\",1.3,100,(2,4),True,{\"A\":\"ME\"},None]\n",
        "print(list1)\n",
        "print(type(list1))\n",
        "print(list1[4],type(list1[4]))\n",
        "list1[1]=0.99\n",
        "print(list1)\n",
        "type(list1[-1])"
      ]
    },
    {
      "cell_type": "code",
      "execution_count": null,
      "id": "c8fac271-3f51-4171-be70-16cd3e940943",
      "metadata": {
        "id": "c8fac271-3f51-4171-be70-16cd3e940943",
        "outputId": "27f80436-dedd-4c84-a2a3-c652b3e0165b"
      },
      "outputs": [
        {
          "name": "stdout",
          "output_type": "stream",
          "text": [
            "[1, 2, 3, 4, 5]\n",
            "after appending 6 [1, 2, 3, 4, 5, 6]\n"
          ]
        }
      ],
      "source": [
        "#append will add a new element at the end of the list\n",
        "list1=[1,2,3,4,5]\n",
        "print(list1)\n",
        "list1.append(6)\n",
        "print(\"after appending 6\",list1)"
      ]
    },
    {
      "cell_type": "code",
      "execution_count": null,
      "id": "3c0644b1-4e39-40c4-b8f5-6583154e429a",
      "metadata": {
        "id": "3c0644b1-4e39-40c4-b8f5-6583154e429a",
        "outputId": "8cf3e1e6-93f6-420c-aee7-7087d05df85e"
      },
      "outputs": [
        {
          "name": "stdout",
          "output_type": "stream",
          "text": [
            "after inserting 3 in the 2nd index [1, 2, 45, 3, 4, 5, 6]\n"
          ]
        }
      ],
      "source": [
        "#insert will add a new element in a particular position\n",
        "# insert(position,value)\n",
        "list1.insert(2,45)\n",
        "print(\"after inserting 3 in the 2nd index\",list1)"
      ]
    },
    {
      "cell_type": "code",
      "execution_count": null,
      "id": "089a4b46-fe55-4035-8d45-066ec9fca95c",
      "metadata": {
        "id": "089a4b46-fe55-4035-8d45-066ec9fca95c",
        "outputId": "9737fd49-3599-4967-f096-89a27e011e9a"
      },
      "outputs": [
        {
          "name": "stdout",
          "output_type": "stream",
          "text": [
            "after removing the 3  [1, 2, 45, 4, 5, 6]\n"
          ]
        }
      ],
      "source": [
        "#remove will delete the specified element\n",
        "list1.remove(3)\n",
        "print(\"after removing the 3 \",list1)"
      ]
    },
    {
      "cell_type": "code",
      "execution_count": null,
      "id": "165f755b-9a64-4198-b862-51608af710a9",
      "metadata": {
        "id": "165f755b-9a64-4198-b862-51608af710a9",
        "outputId": "1421e5f6-8d9b-4ccc-a542-a5c7072901d7"
      },
      "outputs": [
        {
          "name": "stdout",
          "output_type": "stream",
          "text": [
            "after poping the last element [1, 2, 45, 4, 5]\n",
            "after popping the 1st index value [1, 45, 4, 5]\n"
          ]
        }
      ],
      "source": [
        "#The pop() method removes the specified index.If you dont specify the index value it will delete the last element of the list\n",
        "list1.pop()\n",
        "print(\"after poping the last element\",list1)\n",
        "list1.pop(1)\n",
        "print(\"after popping the 1st index value\",list1)"
      ]
    },
    {
      "cell_type": "code",
      "execution_count": null,
      "id": "e998b433-f3b1-4d9b-8ff3-555bddb9caaf",
      "metadata": {
        "id": "e998b433-f3b1-4d9b-8ff3-555bddb9caaf",
        "outputId": "cb550402-b434-4eb6-8a5b-64fc9341a68c"
      },
      "outputs": [
        {
          "name": "stdout",
          "output_type": "stream",
          "text": [
            "list2= [3, 5, 2, 1, 0, 9, 8, 33, 209]\n",
            "after sorting: [0, 1, 2, 3, 5, 8, 9, 33, 209]\n",
            "after reversing: [209, 33, 9, 8, 5, 3, 2, 1, 0]\n"
          ]
        }
      ],
      "source": [
        "#sort the values by ascending to descending\n",
        "unordered=[3,5,2,1,0,9,8,33,209]\n",
        "print(\"list2=\",unordered)\n",
        "unordered.sort()\n",
        "print(\"after sorting:\",unordered)\n",
        "unordered.reverse()\n",
        "print(\"after reversing:\",unordered)"
      ]
    },
    {
      "cell_type": "code",
      "execution_count": null,
      "id": "d476dfd6-d6d9-45c3-b77e-9867ea0df85c",
      "metadata": {
        "id": "d476dfd6-d6d9-45c3-b77e-9867ea0df85c",
        "outputId": "75f55eb7-ae98-4da2-c251-5a3da3a32b21"
      },
      "outputs": [
        {
          "name": "stdout",
          "output_type": "stream",
          "text": [
            "ELEMENTS IN THE LIST [1, 45, 4, 5]\n",
            "[1, 45, 4, 5]\n",
            "[1, 45, 4, 5]\n",
            "[4, 5]\n",
            "[1, 4]\n"
          ]
        }
      ],
      "source": [
        "#slicing\n",
        "#it is same as string slicing\n",
        "print(\"ELEMENTS IN THE LIST\",list1)\n",
        "print(list1[::]) #print all the values\n",
        "print(list1[:4]) #first 4 values\n",
        "print(list1[2:4])\n",
        "print(list1[::2]) #alternative values"
      ]
    },
    {
      "cell_type": "code",
      "execution_count": null,
      "id": "042b7136-ced0-4346-9a90-0da73d021eb5",
      "metadata": {
        "id": "042b7136-ced0-4346-9a90-0da73d021eb5",
        "outputId": "8d079590-e2e4-4efa-c91e-3e1e05e57219"
      },
      "outputs": [
        {
          "name": "stdout",
          "output_type": "stream",
          "text": [
            "after extending the list: [1, 2, 3, 4, 5, 'yellow', 'flower']\n",
            "['yellow', 'flower']\n"
          ]
        }
      ],
      "source": [
        "#extend is used to add a another list into a extending list\n",
        "list1=[1,2,3,4,5]\n",
        "list2=[\"yellow\",\"flower\"]\n",
        "list1.extend(list2)\n",
        "print(\"after extending the list:\",list1)\n",
        "print(list2)"
      ]
    },
    {
      "cell_type": "code",
      "execution_count": null,
      "id": "1a5523e2-9442-4fda-8c9b-95f4b3e8bf58",
      "metadata": {
        "id": "1a5523e2-9442-4fda-8c9b-95f4b3e8bf58",
        "outputId": "b1f8fb13-d138-4987-e2de-789a28bde224"
      },
      "outputs": [
        {
          "name": "stdout",
          "output_type": "stream",
          "text": [
            "7\n"
          ]
        }
      ],
      "source": [
        "#len is used to find the length of the list\n",
        "print(len(list1))"
      ]
    },
    {
      "cell_type": "markdown",
      "id": "f215fa44-51f1-4256-baef-0afbe4b9c1e7",
      "metadata": {
        "id": "f215fa44-51f1-4256-baef-0afbe4b9c1e7"
      },
      "source": [
        "### List Comprehension\n",
        "\n",
        "List comprehensions offer a concise way to create lists.\n",
        "\n",
        "Example: Create a list of squares from 0 to 9.\n"
      ]
    },
    {
      "cell_type": "code",
      "execution_count": null,
      "id": "358e3801-4422-44dc-908f-4f89655ab095",
      "metadata": {
        "id": "358e3801-4422-44dc-908f-4f89655ab095",
        "outputId": "44db77b4-8f46-46aa-fb87-05e818ff6013"
      },
      "outputs": [
        {
          "name": "stdout",
          "output_type": "stream",
          "text": [
            "Squares: [0, 1, 4, 9, 16, 25, 36, 49, 64, 81]\n"
          ]
        }
      ],
      "source": [
        "# List comprehension example\n",
        "squares = [x**2 for x in range(10)] # range starts from 0 to n-1, here n is 10 so 10-1=9\n",
        "print(\"Squares:\", squares)            # Output: [0, 1, 4, 9, 16, 25, 36, 49, 64, 81]\n"
      ]
    },
    {
      "cell_type": "code",
      "execution_count": null,
      "id": "583854b2-d665-4eec-8add-98135d2db023",
      "metadata": {
        "id": "583854b2-d665-4eec-8add-98135d2db023",
        "outputId": "336bb47c-74bb-4353-e5f2-7b63a1282c37"
      },
      "outputs": [
        {
          "name": "stdout",
          "output_type": "stream",
          "text": [
            "[100, 1, 4, 9, 16, 25, 36, 49, 64, 81]\n"
          ]
        }
      ],
      "source": [
        "squares[0]=100\n",
        "print(squares)"
      ]
    },
    {
      "cell_type": "markdown",
      "id": "98010039-0b3a-4ffc-835e-f035e6690e29",
      "metadata": {
        "id": "98010039-0b3a-4ffc-835e-f035e6690e29"
      },
      "source": [
        "# Set\n",
        "- **Mutable**: Elements can be added or removed, but individual items cannot be accessed or modified by index.\n",
        "- **Unordered**: Does not maintain any specific order.\n",
        "- **No Duplicates**: Automatically removes duplicate values.\n",
        "- **Unindexed**: Does not support indexing or slicing.\n",
        "- **Declaration**: `set_variable = {element1, element2, ...}`\n",
        "- **Data types allowed**: `int,float,str,tuple`"
      ]
    },
    {
      "cell_type": "code",
      "execution_count": null,
      "id": "d0253701-4f46-4de4-ab9d-d5c0e35845b1",
      "metadata": {
        "id": "d0253701-4f46-4de4-ab9d-d5c0e35845b1",
        "outputId": "ed6ba85e-608a-42b7-ad25-4caa7cf733cf"
      },
      "outputs": [
        {
          "name": "stdout",
          "output_type": "stream",
          "text": [
            "set: {1, 'banana', 'cherry', 'apple', 'mango'}\n",
            "<class 'set'>\n",
            "Empty set: {1, 2, 3}\n"
          ]
        }
      ],
      "source": [
        "# Creating a set\n",
        "fruits = {\"apple\", \"banana\", \"cherry\",\"mango\",1}\n",
        "print(\"set:\", fruits)\n",
        "print(type(fruits))\n",
        "\n",
        "# Creating an empty set\n",
        "\n",
        "empty_set = set()\n",
        "empty_set={1,2,3}\n",
        "print(\"Empty set:\", empty_set)\n"
      ]
    },
    {
      "cell_type": "code",
      "execution_count": null,
      "id": "c3e526b1-c43b-41f4-8b05-ced056060cdb",
      "metadata": {
        "id": "c3e526b1-c43b-41f4-8b05-ced056060cdb",
        "outputId": "f3c27f41-5c9e-4470-f516-677591470192"
      },
      "outputs": [
        {
          "name": "stdout",
          "output_type": "stream",
          "text": [
            "After adding 'orange': {1, 'banana', 'cherry', 'apple', 'mango', 'orange'}\n"
          ]
        }
      ],
      "source": [
        "# Set operations\n",
        "fruits.add(\"orange\")\n",
        "print(\"After adding 'orange':\", fruits)\n"
      ]
    },
    {
      "cell_type": "code",
      "execution_count": null,
      "id": "4c5d256d-8321-48a6-b1a6-9e103e74504b",
      "metadata": {
        "id": "4c5d256d-8321-48a6-b1a6-9e103e74504b",
        "outputId": "b6a79df2-cb16-4f08-b10f-e9559c8e15a0"
      },
      "outputs": [
        {
          "name": "stdout",
          "output_type": "stream",
          "text": [
            "After removing 'banana': {1, 'cherry', 'apple', 'mango', 'orange'}\n"
          ]
        }
      ],
      "source": [
        "fruits.remove(\"banana\")\n",
        "print(\"After removing 'banana':\", fruits)\n",
        "\n"
      ]
    },
    {
      "cell_type": "code",
      "execution_count": null,
      "id": "9c2cfa24-9063-40fb-b8e5-7c2b9f20d49f",
      "metadata": {
        "id": "9c2cfa24-9063-40fb-b8e5-7c2b9f20d49f",
        "outputId": "19fbc9f7-5c8a-4076-b53c-7639aa0b3dea"
      },
      "outputs": [
        {
          "name": "stdout",
          "output_type": "stream",
          "text": [
            "after updating {1, 'pineapple', 'cherry', 'apple', 'mango', 'kiwi', 'orange'}\n",
            "{1, 2, 3, 'pineapple', 'mango', 'cherry', 'apple', 'kiwi', 'orange'}\n"
          ]
        }
      ],
      "source": [
        "#update using list\n",
        "My_list=[\"kiwi\",\"pineapple\"]\n",
        "fruits.update(My_list)\n",
        "print(\"after updating\",fruits)\n",
        "\n",
        "#update using another set\n",
        "set1={1,2,3}\n",
        "fruits.update(set1)\n",
        "print(fruits)"
      ]
    },
    {
      "cell_type": "code",
      "execution_count": null,
      "id": "3a9f588e-ac5e-4a61-95fb-3e6a2fdd388b",
      "metadata": {
        "id": "3a9f588e-ac5e-4a61-95fb-3e6a2fdd388b",
        "outputId": "0e3a5e36-eb84-49be-f7bb-870e48b379a9"
      },
      "outputs": [
        {
          "data": {
            "text/plain": [
              "1"
            ]
          },
          "execution_count": 44,
          "metadata": {},
          "output_type": "execute_result"
        }
      ],
      "source": [
        "#it is a unindexed so delete a random value\n",
        "fruits.pop()"
      ]
    },
    {
      "cell_type": "code",
      "execution_count": null,
      "id": "e2fd6e09-cec3-41f6-b9e4-10eca4fff278",
      "metadata": {
        "id": "e2fd6e09-cec3-41f6-b9e4-10eca4fff278",
        "outputId": "b6ba699a-2df8-445c-d202-2abd073ad4d1"
      },
      "outputs": [
        {
          "name": "stdout",
          "output_type": "stream",
          "text": [
            "{2, 3, 'mango', 'cherry', 'apple', 'kiwi', 'orange'}\n"
          ]
        }
      ],
      "source": [
        "#In remove you can specify the value that need to be removed from the set\n",
        "fruits.remove(\"pineapple\")\n",
        "print(fruits)"
      ]
    },
    {
      "cell_type": "code",
      "execution_count": null,
      "id": "e6a164e4-c58c-4d81-8188-dfab6f8dfc94",
      "metadata": {
        "id": "e6a164e4-c58c-4d81-8188-dfab6f8dfc94",
        "outputId": "7e54cbbd-7a0b-4092-8a83-7ca17be671f0"
      },
      "outputs": [
        {
          "name": "stdout",
          "output_type": "stream",
          "text": [
            "{1, 2, 3, 4, 5}\n",
            "{1, 2, 3, 4, 5}\n"
          ]
        }
      ],
      "source": [
        "#union\n",
        "A = {1, 2, 3}\n",
        "B = {3, 4, 5}\n",
        "print(A | B)          # {1, 2, 3, 4, 5}\n",
        "print(A.union(B))      # {1, 2, 3, 4, 5}\n"
      ]
    },
    {
      "cell_type": "code",
      "execution_count": null,
      "id": "00be7e6f-3354-447d-8be6-dbe495a2e39a",
      "metadata": {
        "id": "00be7e6f-3354-447d-8be6-dbe495a2e39a",
        "outputId": "6cd16e51-b0b0-4e4b-f9b0-04b719177445"
      },
      "outputs": [
        {
          "name": "stdout",
          "output_type": "stream",
          "text": [
            "{3}\n",
            "{3}\n"
          ]
        }
      ],
      "source": [
        "print(A & B)                # {3}\n",
        "print(A.intersection(B))    # {3}\\\n"
      ]
    },
    {
      "cell_type": "code",
      "execution_count": null,
      "id": "1096d04b-af82-4da7-837a-9a7ff03cad00",
      "metadata": {
        "id": "1096d04b-af82-4da7-837a-9a7ff03cad00",
        "outputId": "701acc48-765b-43b8-a7bf-953fd5bb6a73"
      },
      "outputs": [
        {
          "name": "stdout",
          "output_type": "stream",
          "text": [
            "{1, 2}\n",
            "{1, 2}\n"
          ]
        }
      ],
      "source": [
        "print(A - B)               # {1, 2} (elements in A but not in B)\n",
        "print(A.difference(B))     # {1, 2}\n"
      ]
    },
    {
      "cell_type": "code",
      "execution_count": null,
      "id": "37518571-998a-493a-a3e6-ad2d94337ef3",
      "metadata": {
        "id": "37518571-998a-493a-a3e6-ad2d94337ef3",
        "outputId": "877d7bde-26d3-4ded-adb8-537b1b1a4873"
      },
      "outputs": [
        {
          "name": "stdout",
          "output_type": "stream",
          "text": [
            "{1, 2, 4, 5}\n",
            "{1, 2, 4, 5}\n"
          ]
        }
      ],
      "source": [
        "#The symmetric_difference() method will keep only the elements that are NOT present in both sets.\n",
        "print(A ^ B)                      # {1, 2, 4, 5}\n",
        "print(A.symmetric_difference(B))  # {1, 2, 4, 5}\n"
      ]
    },
    {
      "cell_type": "markdown",
      "id": "6e0aa656-77c9-4ad6-87a2-b7afbbe8bafd",
      "metadata": {
        "id": "6e0aa656-77c9-4ad6-87a2-b7afbbe8bafd"
      },
      "source": [
        "# Tuple\n",
        "- **Immutable**: Cannot be modified after creation (elements can’t be added, removed, or changed).\n",
        "- **Ordered**: Maintains the insertion order of elements.\n",
        "- **Indexed**: Elements can be accessed by index (supports slicing).\n",
        "- **Allows Duplicates**: Can contain duplicate values.\n",
        "- **Declaration**: `tuple_variable = (element1, element2, ...)`\n",
        "- **Data types allowed**: `int,float,str,dictionary,sets`\n"
      ]
    },
    {
      "cell_type": "code",
      "execution_count": null,
      "id": "5ccba03a-4fc5-4aaa-bb68-03a26e6842ec",
      "metadata": {
        "id": "5ccba03a-4fc5-4aaa-bb68-03a26e6842ec",
        "outputId": "c16d3ab0-995f-46b4-856e-1b1febb89a0a"
      },
      "outputs": [
        {
          "name": "stdout",
          "output_type": "stream",
          "text": [
            "Tuple: (1, 2, 3, 4)\n",
            "Single-element tuple: (5,)\n",
            "<class 'tuple'>\n",
            "First element: apple\n",
            "Last element: cherry\n"
          ]
        }
      ],
      "source": [
        "# Tuple creation\n",
        "numbers = (1, 2, 3, 4)\n",
        "print(\"Tuple:\", numbers)\n",
        "\n",
        "# Creating a tuple with one element (requires a comma)\n",
        "single_element = (5,)\n",
        "print(\"Single-element tuple:\", single_element)\n",
        "print(type(single_element))\n",
        "\n",
        "# Accessing tuple elements\n",
        "tup = (\"apple\", \"banana\", \"cherry\")\n",
        "print(\"First element:\", tup[0])\n",
        "print(\"Last element:\", tup[-1])\n"
      ]
    },
    {
      "cell_type": "markdown",
      "id": "19530992-0b29-48ed-8f18-fb880592fd1b",
      "metadata": {
        "id": "19530992-0b29-48ed-8f18-fb880592fd1b"
      },
      "source": [
        "### Example: Tuple Unpacking\n",
        "\n",
        "You can unpack tuple values into separate variables.\n"
      ]
    },
    {
      "cell_type": "code",
      "execution_count": null,
      "id": "16eee55e-f167-46ee-ba52-5340030c6730",
      "metadata": {
        "id": "16eee55e-f167-46ee-ba52-5340030c6730",
        "outputId": "652b385c-b2eb-47c1-cf28-8bc837bc0d61"
      },
      "outputs": [
        {
          "name": "stdout",
          "output_type": "stream",
          "text": [
            "Unpacked X: 10.0\n",
            "Unpacked Y: 20.0\n",
            "Unpacked Z: 30\n"
          ]
        }
      ],
      "source": [
        "coordinates = (10.0, 20.0,30)\n",
        "x, y,z= coordinates\n",
        "print(\"Unpacked X:\", x)\n",
        "print(\"Unpacked Y:\", y)\n",
        "print(\"Unpacked Z:\", z)\n"
      ]
    },
    {
      "cell_type": "markdown",
      "id": "0c372027-8acd-4436-94e7-b1c4b71f8457",
      "metadata": {
        "id": "0c372027-8acd-4436-94e7-b1c4b71f8457"
      },
      "source": [
        "# Dictionary\n",
        "- **Mutable**: Keys and values can be added, removed, or changed.\n",
        "- **Ordered (since Python 3.7)**: Maintains the insertion order of keys.\n",
        "- **Key-Value Pairs**: Stores data in key-value pairs, where keys are unique.\n",
        "- **Keys Must Be Immutable**: Keys can be strings, numbers, or tuples, but not lists or other dictionaries.\n",
        "- **Declaration**: `dict_variable = {key1: value1, key2: value2, ...}`\n",
        "- **Data types allowed**: `int,float,str,list,sets`"
      ]
    },
    {
      "cell_type": "code",
      "execution_count": null,
      "id": "982b364f-02c3-4401-b87d-69fb0694d807",
      "metadata": {
        "id": "982b364f-02c3-4401-b87d-69fb0694d807",
        "outputId": "c562e8a8-6784-4818-fff9-a5b29068d447"
      },
      "outputs": [
        {
          "name": "stdout",
          "output_type": "stream",
          "text": [
            "Name: Alice\n",
            "Age: 25\n"
          ]
        }
      ],
      "source": [
        "# Dictionary creation\n",
        "person = {\n",
        "    \"name\": \"Alice\",\n",
        "    \"age\": 25,\n",
        "    \"city\": \"New York\"\n",
        "}\n",
        "\n",
        "# Accessing values\n",
        "print(\"Name:\", person[\"name\"])\n",
        "print(\"Age:\", person.get(\"age\"))\n"
      ]
    },
    {
      "cell_type": "markdown",
      "id": "0ba910f3-dcf6-43e9-9e21-aceb49854f61",
      "metadata": {
        "id": "0ba910f3-dcf6-43e9-9e21-aceb49854f61"
      },
      "source": [
        "### Common Dictionary Operations\n",
        "\n",
        "| Operation          | Description                                    | Example                          | Output                |\n",
        "|--------------------|------------------------------------------------|----------------------------------|------------------------|\n",
        "| `get()`            | Returns the value for a key                    | `person.get(\"name\")`             | `\"Alice\"`             |\n",
        "| `keys()`           | Returns all keys in the dictionary             | `person.keys()`                  | `dict_keys(['name', 'age', 'city'])` |\n",
        "| `values()`         | Returns all values in the dictionary           | `person.values()`                | `dict_values(['Alice', 25, 'New York'])` |\n",
        "| `items()`          | Returns all key-value pairs                    | `person.items()`                 | `dict_items([('name', 'Alice'), ('age', 25), ('city', 'New York')])` |\n",
        "| `update()`         | Updates or adds new key-value pairs            | `person.update({\"age\": 26})`     | `{'name': 'Alice', 'age': 26, 'city': 'New York'}` |\n",
        "| `pop()`            | Removes a key and returns its value            | `person.pop(\"age\")`              | `25`                  |\n",
        "| `clear()`          | Removes all elements from the dictionary       | `person.clear()`                 | `{}`                  |\n"
      ]
    },
    {
      "cell_type": "code",
      "execution_count": null,
      "id": "a902f5ea-3311-471c-b452-9665a7d51ea3",
      "metadata": {
        "id": "a902f5ea-3311-471c-b452-9665a7d51ea3",
        "outputId": "9b8ec91b-3708-4efd-a0d9-728523ea8054"
      },
      "outputs": [
        {
          "name": "stdout",
          "output_type": "stream",
          "text": [
            "Updated dictionary: {'name': 'Alice', 'age': 30, 'city': 'New York', 'job': 'Engineer'}\n"
          ]
        }
      ],
      "source": [
        "# Adding and updating dictionary values\n",
        "person[\"job\"] = \"Engineer\" #new key\n",
        "person[\"age\"] = 30\n",
        "print(\"Updated dictionary:\", person)\n",
        "\n"
      ]
    },
    {
      "cell_type": "code",
      "execution_count": null,
      "id": "b581dcce-4c35-408c-b531-b9d7cbaa0614",
      "metadata": {
        "id": "b581dcce-4c35-408c-b531-b9d7cbaa0614",
        "outputId": "16f410d8-fffb-4d0e-ad1a-0a499d771e66"
      },
      "outputs": [
        {
          "name": "stdout",
          "output_type": "stream",
          "text": [
            "Keys: dict_keys(['name', 'age', 'city', 'job'])\n",
            "Values: dict_values(['Alice', 30, 'New York', 'Engineer'])\n",
            "Items: dict_items([('name', 'Alice'), ('age', 30), ('city', 'New York'), ('job', 'Engineer')])\n"
          ]
        }
      ],
      "source": [
        "# Dictionary methods\n",
        "print(\"Keys:\", person.keys())\n",
        "print(\"Values:\", person.values())\n",
        "print(\"Items:\", person.items())"
      ]
    },
    {
      "cell_type": "code",
      "execution_count": null,
      "id": "baa5938c-0271-4fa3-968d-fdf589e816e0",
      "metadata": {
        "id": "baa5938c-0271-4fa3-968d-fdf589e816e0",
        "outputId": "d18fb849-2238-413d-b397-d363785d8c3e"
      },
      "outputs": [
        {
          "name": "stdout",
          "output_type": "stream",
          "text": [
            "After removing 'city': {'name': 'Alice', 'age': 30, 'job': 'Engineer'}\n"
          ]
        }
      ],
      "source": [
        "# Removing a key\n",
        "person.pop(\"city\")\n",
        "\n",
        "print(\"After removing 'city':\", person)\n"
      ]
    },
    {
      "cell_type": "markdown",
      "id": "de2bf1aa-7623-4bbe-a5f3-aa02702a601e",
      "metadata": {
        "id": "de2bf1aa-7623-4bbe-a5f3-aa02702a601e"
      },
      "source": [
        "## ARITHMETIC OPERATORS\n",
        "\n",
        "| Operation        | Description   | Example        | Output |\n",
        "|------------------|---------------|----------------|--------|\n",
        "| **Addition**     | a + b         | `a + b`        | 13     |\n",
        "| **Subtraction**  | a - b         | `a - b`        | 7      |\n",
        "| **Multiplication** | a * b      | `a * b`        | 30     |\n",
        "| **Division**     | a / b         | `a / b`        | 3.33   |\n",
        "| **Floor Division** | a // b    | `a // b`       | 3      |\n",
        "| **Modulus**      | a % b         | `a % b`        | 1      |\n",
        "| **Exponentiation** | a ** b    | `a ** b`       | 1000   |\n"
      ]
    },
    {
      "cell_type": "code",
      "execution_count": null,
      "id": "8bf8880c-1951-4569-ac43-deda9254d4cf",
      "metadata": {
        "id": "8bf8880c-1951-4569-ac43-deda9254d4cf",
        "outputId": "110584e6-f758-4154-99f2-b3d998c8c207"
      },
      "outputs": [
        {
          "name": "stdout",
          "output_type": "stream",
          "text": [
            "Addition: 13\n",
            "Subtraction: 7\n",
            "Multiplication: 30\n",
            "Division: 3.3333333333333335\n",
            "Modulus: 1\n",
            "Exponentiation: 1000\n",
            "Floor Division: 3\n"
          ]
        }
      ],
      "source": [
        "a = 10\n",
        "b = 3\n",
        "print(\"Addition:\", a + b)          # 13\n",
        "print(\"Subtraction:\", a - b)       # 7\n",
        "print(\"Multiplication:\", a * b)    # 30\n",
        "print(\"Division:\", a / b)          # 3.33\n",
        "print(\"Modulus:\", a % b)           # 1\n",
        "print(\"Exponentiation:\", a ** b)   # 1000\n",
        "print(\"Floor Division:\", a // b)\n"
      ]
    },
    {
      "cell_type": "markdown",
      "id": "241de8f0-0a3c-4059-be83-de75aef00c92",
      "metadata": {
        "id": "241de8f0-0a3c-4059-be83-de75aef00c92"
      },
      "source": [
        "   \n",
        "\n",
        "<h2>Comparison Operators</h2>\n",
        "<p>These operators compare values and return a Boolean result:</p>\n",
        "<table border=\"1\" cellpadding=\"5\" cellspacing=\"0\">\n",
        "    <tr>\n",
        "        <th>Operator</th>\n",
        "        <th>Description</th>\n",
        "        <th>Example</th>\n",
        "        <th>Output</th>\n",
        "    </tr>\n",
        "    <tr>\n",
        "        <td><code>==</code></td>\n",
        "        <td>Equal to</td>\n",
        "        <td><code>10 == 3</code></td>\n",
        "        <td>False</td>\n",
        "    </tr>\n",
        "    <tr>\n",
        "        <td><code>!=</code></td>\n",
        "        <td>Not equal to</td>\n",
        "        <td><code>10 != 3</code></td>\n",
        "        <td>True</td>\n",
        "    </tr>\n",
        "    <tr>\n",
        "        <td><code>></code></td>\n",
        "        <td>Greater than</td>\n",
        "        <td><code>10 > 3</code></td>\n",
        "        <td>True</td>\n",
        "    </tr>\n",
        "    <tr>\n",
        "        <td><code><</code></td>\n",
        "        <td>Less than</td>\n",
        "        <td><code>10 < 3</code></td>\n",
        "        <td>False</td>\n",
        "    </tr>\n",
        "    <tr>\n",
        "        <td><code>>=</code></td>\n",
        "        <td>Greater than or equal to</td>\n",
        "        <td><code>10 >= 3</code></td>\n",
        "        <td>True</td>\n",
        "    </tr>\n",
        "    <tr>\n",
        "        <td><code><=</code></td>\n",
        "        <td>Less than or equal to</td>\n",
        "        <td><code>10 <= 3</code></td>\n",
        "        <td>False</td>\n",
        "    </tr>\n",
        "</table>\n"
      ]
    },
    {
      "cell_type": "code",
      "execution_count": null,
      "id": "178e297e-62f8-477d-80a2-2230ee9c7e02",
      "metadata": {
        "id": "178e297e-62f8-477d-80a2-2230ee9c7e02",
        "outputId": "ceba5a2a-339a-4f52-b4aa-0bb199161dbd"
      },
      "outputs": [
        {
          "name": "stdout",
          "output_type": "stream",
          "text": [
            "False\n",
            "True\n",
            "False\n",
            "True\n",
            "False\n",
            "True\n",
            "True\n"
          ]
        }
      ],
      "source": [
        "a = 10\n",
        "b = 20\n",
        "# Equal to\n",
        "print(a == b)  # False\n",
        "# Not equal to\n",
        "print(a != b)  # True\n",
        "# Greater than\n",
        "print(a > b)   # False\n",
        "# Less than\n",
        "print(a < b)   # True\n",
        "# Greater than or equal to\n",
        "print(a >= b)  # False\n",
        "# Less than or equal to\n",
        "print(a <= b)  # True\n",
        "print(10==10.0)"
      ]
    },
    {
      "cell_type": "markdown",
      "id": "832d8c8b-405d-4219-b04e-7eed521eca61",
      "metadata": {
        "id": "832d8c8b-405d-4219-b04e-7eed521eca61"
      },
      "source": [
        "<h2>Logical Operators</h2>\n",
        "<p>These operators are used to perform logical operations:</p>\n",
        "<table border=\"1\" cellpadding=\"5\" cellspacing=\"0\">\n",
        "    <tr>\n",
        "        <th>Operator</th>\n",
        "        <th>Description</th>\n",
        "        <th>Example</th>\n",
        "        <th>Output</th>\n",
        "    </tr>\n",
        "    <tr>\n",
        "        <td><code>and</code></td>\n",
        "        <td>Returns True if both statements are true</td>\n",
        "        <td><code>True and False</code></td>\n",
        "        <td>False</td>\n",
        "    </tr>\n",
        "    <tr>\n",
        "        <td><code>or</code></td>\n",
        "        <td>Returns True if at least one statement is true</td>\n",
        "        <td><code>True or False</code></td>\n",
        "        <td>True</td>\n",
        "    </tr>\n",
        "    <tr>\n",
        "        <td><code>not</code></td>\n",
        "        <td>Reverses the result</td>\n",
        "        <td><code>not True</code></td>\n",
        "        <td>False</td>\n",
        "    </tr>\n",
        "</table>\n"
      ]
    },
    {
      "cell_type": "code",
      "execution_count": null,
      "id": "75243a38-402c-4c84-a7dd-f8e58e84f4b9",
      "metadata": {
        "id": "75243a38-402c-4c84-a7dd-f8e58e84f4b9",
        "outputId": "a60a1371-2228-46b6-b1e7-fc1be49bd82a"
      },
      "outputs": [
        {
          "name": "stdout",
          "output_type": "stream",
          "text": [
            "True\n",
            "True\n",
            "False\n"
          ]
        }
      ],
      "source": [
        "a = 5\n",
        "b = 3\n",
        "# Using and\n",
        "print((a > b) and (b > 1))\n",
        "# Using or\n",
        "print((a < b) or (b > 1))\n",
        "# Using not\n",
        "print(not(a > b))"
      ]
    },
    {
      "cell_type": "markdown",
      "id": "da3d4bce-fdd4-488e-932a-d624d8fd6810",
      "metadata": {
        "id": "da3d4bce-fdd4-488e-932a-d624d8fd6810"
      },
      "source": [
        "\n",
        "\n",
        "<h2>Assignment Operators</h2>\n",
        "<p>These operators are used to assign values to variables:</p>\n",
        "<table border=\"1\" cellpadding=\"5\" cellspacing=\"0\">\n",
        "    <tr>\n",
        "        <th>Operator</th>\n",
        "        <th>Description</th>\n",
        "        <th>Example</th>\n",
        "        <th>Output</th>\n",
        "    </tr>\n",
        "    <tr>\n",
        "        <td><code>=</code></td>\n",
        "        <td>Assigns a value</td>\n",
        "        <td><code>x = 10</code></td>\n",
        "        <td>x is 10</td>\n",
        "    </tr>\n",
        "    <tr>\n",
        "        <td><code>+=</code></td>\n",
        "        <td>Add and assign</td>\n",
        "        <td><code>x += 3</code></td>\n",
        "        <td>x = x + 3</td>\n",
        "    </tr>\n",
        "    <tr>\n",
        "        <td><code>-=</code></td>\n",
        "        <td>Subtract and assign</td>\n",
        "        <td><code>x -= 3</code></td>\n",
        "        <td>x = x - 3</td>\n",
        "    </tr>\n",
        "    <tr>\n",
        "        <td><code>*=</code></td>\n",
        "        <td>Multiply and assign</td>\n",
        "        <td><code>x *= 3</code></td>\n",
        "        <td>x = x * 3</td>\n",
        "    </tr>\n",
        "    <tr>\n",
        "        <td><code>/=</code></td>\n",
        "        <td>Divide and assign</td>\n",
        "        <td><code>x /= 3</code></td>\n",
        "        <td>x = x / 3</td>\n",
        "    </tr>\n",
        "    <tr>\n",
        "        <td><code>%=</code></td>\n",
        "        <td>Modulus and assign</td>\n",
        "        <td><code>x %= 3</code></td>\n",
        "        <td>x = x % 3</td>\n",
        "    </tr>\n",
        "    <tr>\n",
        "        <td><code>//=</code></td>\n",
        "        <td>Floor divide and assign</td>\n",
        "        <td><code>x //= 3</code></td>\n",
        "        <td>x = x // 3</td>\n",
        "    </tr>\n",
        "    <tr>\n",
        "        <td><code>**=</code></td>\n",
        "        <td>Exponent and assign</td>\n",
        "        <td><code>x **= 3</code></td>\n",
        "        <td>x = x ** 3</td>\n",
        "    </tr>\n",
        "    <tr>\n",
        "        <td><code>&=</code></td>\n",
        "        <td>Bitwise AND and assign</td>\n",
        "        <td><code>x &= 3</code></td>\n",
        "        <td>x = x & 3</td>\n",
        "    </tr>\n",
        "    <tr>\n",
        "        <td><code>|=</code></td>\n",
        "        <td>Bitwise OR and assign</td>\n",
        "        <td><code>x |= 3</code></td>\n",
        "        <td>x = x | 3</td>\n",
        "    </tr>\n",
        "    <tr>\n",
        "        <td><code>^=</code></td>\n",
        "        <td>Bitwise XOR and assign</td>\n",
        "        <td><code>x ^= 3</code></td>\n",
        "        <td>x = x ^ 3</td>\n",
        "    </tr>\n",
        "    <tr>\n",
        "        <td><code>&lt;&lt;=</code></td>\n",
        "        <td>Left shift and assign</td>\n",
        "        <td><code>x <<= 3</code></td>\n",
        "        <td>x = x << 3</td>\n",
        "    </tr>\n",
        "    <tr>\n",
        "        <td><code>&gt;&gt;=</code></td>\n",
        "        <td>Right shift and assign</td>\n",
        "        <td><code>x >>= 3</code></td>\n",
        "        <td>x = x >> 3</td>\n",
        "    </tr>\n",
        "</table>\n"
      ]
    },
    {
      "cell_type": "code",
      "execution_count": null,
      "id": "49d1929f-ef14-48c0-91a0-2926a94908e9",
      "metadata": {
        "id": "49d1929f-ef14-48c0-91a0-2926a94908e9",
        "outputId": "897549bf-911a-4500-88d9-b4bfb01cf83c"
      },
      "outputs": [
        {
          "name": "stdout",
          "output_type": "stream",
          "text": [
            "8\n",
            "6\n",
            "12\n",
            "3.0\n"
          ]
        }
      ],
      "source": [
        "x = 5\n",
        "x += 3\n",
        "print(x)\n",
        "x -= 2\n",
        "print(x)\n",
        "x *= 2\n",
        "print(x)\n",
        "x /= 4\n",
        "print(x)\n"
      ]
    },
    {
      "cell_type": "markdown",
      "id": "1598adef-b790-4d50-af86-69c21db1a3c1",
      "metadata": {
        "id": "1598adef-b790-4d50-af86-69c21db1a3c1"
      },
      "source": [
        "\n",
        "\n",
        "<h2>Bitwise Operators</h2>\n",
        "<p>These operators perform bitwise operations on binary numbers:</p>\n",
        "<table border=\"1\" cellpadding=\"5\" cellspacing=\"0\">\n",
        "    <tr>\n",
        "        <th>Operator</th>\n",
        "        <th>Description</th>\n",
        "        <th>Example</th>\n",
        "        <th>Output</th>\n",
        "    </tr>\n",
        "    <tr>\n",
        "        <td><code>&</code></td>\n",
        "        <td>Bitwise AND</td>\n",
        "        <td><code>5 & 3</code></td>\n",
        "        <td>1</td>\n",
        "    </tr>\n",
        "    <tr>\n",
        "        <td><code>|</code></td>\n",
        "        <td>Bitwise OR</td>\n",
        "        <td><code>5 | 3</code></td>\n",
        "        <td>7</td>\n",
        "    </tr>\n",
        "    <tr>\n",
        "        <td><code>^</code></td>\n",
        "        <td>Bitwise XOR</td>\n",
        "        <td><code>5 ^ 3</code></td>\n",
        "        <td>6</td>\n",
        "    </tr>\n",
        "    <tr>\n",
        "        <td><code>~</code></td>\n",
        "        <td>Bitwise NOT</td>\n",
        "        <td><code>~5</code></td>\n",
        "        <td>-6</td>\n",
        "    </tr>\n",
        "    <tr>\n",
        "        <td><code>&lt;&lt;</code></td>\n",
        "        <td>Bitwise Left Shift</td>\n",
        "        <td><code>5 &lt;&lt; 1</code></td>\n",
        "        <td>10</td>\n",
        "    </tr>\n",
        "    <tr>\n",
        "        <td><code>&gt;&gt;</code></td>\n",
        "        <td>Bitwise Right Shift</td>\n",
        "        <td><code>5 &gt;&gt; 1</code></td>\n",
        "        <td>2</td>\n",
        "    </tr>\n",
        "</table>\n"
      ]
    },
    {
      "cell_type": "code",
      "execution_count": null,
      "id": "a34067b9-cff9-445e-ad4a-463661f3b5c6",
      "metadata": {
        "id": "a34067b9-cff9-445e-ad4a-463661f3b5c6",
        "outputId": "9ba8950d-a680-462e-f201-e0d3c8b545e6"
      },
      "outputs": [
        {
          "name": "stdout",
          "output_type": "stream",
          "text": [
            "a & b = 1\n",
            "a | b = 7\n",
            "a ^ b = 6\n",
            "~a = -6\n",
            "a << 1 = 10\n",
            "a >> 1 = 2\n"
          ]
        }
      ],
      "source": [
        "# Define the variables\n",
        "a = 5  # Binary: 0000 0101\n",
        "b = 3  # Binary: 0000 0011\n",
        "\n",
        "# Bitwise AND\n",
        "and_result = a & b\n",
        "print(\"a & b =\", and_result)  # Output: 1\n",
        "\n",
        "# Bitwise OR\n",
        "or_result = a | b\n",
        "print(\"a | b =\", or_result)  # Output: 7\n",
        "\n",
        "# Bitwise XOR\n",
        "xor_result = a ^ b\n",
        "print(\"a ^ b =\", xor_result)  # Output: 6\n",
        "\n",
        "# Bitwise NOT\n",
        "not_a = ~a\n",
        "print(\"~a =\", not_a)  # Output: -6\n",
        "\n",
        "# Left Shift\n",
        "left_shift_a = a << 1 #0000 0101 (0000 1010)\n",
        "print(\"a << 1 =\", left_shift_a)  # Output: 10\n",
        "\n",
        "# Right Shift\n",
        "right_shift_a = a >> 1\n",
        "print(\"a >> 1 =\", right_shift_a)  # Output: 2(0000 0010)\n",
        "\n"
      ]
    },
    {
      "cell_type": "markdown",
      "id": "9d0d631a-70b2-4079-86b3-324beb8c2ff4",
      "metadata": {
        "id": "9d0d631a-70b2-4079-86b3-324beb8c2ff4"
      },
      "source": [
        "\n",
        "\n",
        "<h2>Membership Operators</h2>\n",
        "<p>These operators check for the presence of a value in a sequence:</p>\n",
        "<table border=\"1\" cellpadding=\"5\" cellspacing=\"0\">\n",
        "    <tr>\n",
        "        <th>Operator</th>\n",
        "        <th>Description</th>\n",
        "        <th>Example</th>\n",
        "        <th>Output</th>\n",
        "    </tr>\n",
        "    <tr>\n",
        "        <td><code>in</code></td>\n",
        "        <td>Returns True if the value is present in the sequence</td>\n",
        "        <td><code>\"apple\" in fruits</code></td>\n",
        "        <td>True</td>\n",
        "    </tr>\n",
        "    <tr>\n",
        "        <td><code>not in</code></td>\n",
        "        <td>Returns True if the value is not present in the sequence</td>\n",
        "        <td><code>\"grape\" not in fruits</code></td>\n",
        "        <td>True</td>\n",
        "    </tr>\n",
        "</table>\n"
      ]
    },
    {
      "cell_type": "code",
      "execution_count": null,
      "id": "8322d81a-d434-4db5-a0d5-459647995061",
      "metadata": {
        "id": "8322d81a-d434-4db5-a0d5-459647995061",
        "outputId": "4ef43cba-af56-4b3d-e3fd-46d985744fc2"
      },
      "outputs": [
        {
          "name": "stdout",
          "output_type": "stream",
          "text": [
            "True\n",
            "False\n",
            "True\n",
            "False\n"
          ]
        }
      ],
      "source": [
        "# Define a list of fruits\n",
        "fruits = [\"apple\", \"banana\", \"cherry\"]\n",
        "\n",
        "# Using the 'in' operator\n",
        "print(\"apple\" in fruits)     # Output: True\n",
        "print(\"grape\" in fruits)     # Output: False\n",
        "\n",
        "# Using the 'not in' operator\n",
        "print(\"grape\" not in fruits) # Output: True\n",
        "print(\"banana\" not in fruits) # Output: False\n"
      ]
    },
    {
      "cell_type": "markdown",
      "id": "60719b0d-93dd-45d9-a458-fe2e7510e671",
      "metadata": {
        "id": "60719b0d-93dd-45d9-a458-fe2e7510e671"
      },
      "source": [
        "### Control Flow Statements: if, if-else, and elif\n",
        "Key Points<br>\n",
        "Conditional Statements - Used to execute code based on conditions.<br>\n",
        "- if: Runs a block of code if a condition is True.\n",
        "- else: Provides an alternative block of code if the if condition is False.\n",
        "- elif: Allows for multiple conditions to be checked sequentially.\n",
        "- Indentation is essential in Python; it defines the code block for each conditional.\n"
      ]
    },
    {
      "cell_type": "code",
      "execution_count": null,
      "id": "fade767e-729b-4a95-ab73-594e1370eabd",
      "metadata": {
        "id": "fade767e-729b-4a95-ab73-594e1370eabd",
        "outputId": "5e09637f-de40-47d1-d5b8-db70df843cde"
      },
      "outputs": [
        {
          "name": "stdout",
          "output_type": "stream",
          "text": [
            "The number is positive.\n"
          ]
        }
      ],
      "source": [
        "# Example: Check if a number is positive\n",
        "num = 5\n",
        "if num > 0:\n",
        "    print(\"The number is positive.\")\n"
      ]
    },
    {
      "cell_type": "markdown",
      "id": "c643d9ec-11b5-4724-96da-8e28586e1abe",
      "metadata": {
        "id": "c643d9ec-11b5-4724-96da-8e28586e1abe"
      },
      "source": [
        "### if-else Statement\n",
        "The if-else structure provides an alternative block when the if condition is False."
      ]
    },
    {
      "cell_type": "code",
      "execution_count": null,
      "id": "8f59283b-d8e3-43fa-b4ec-97b5c6498ff0",
      "metadata": {
        "id": "8f59283b-d8e3-43fa-b4ec-97b5c6498ff0",
        "outputId": "b43a9110-f07e-4761-b0d7-2f775d7f5889"
      },
      "outputs": [
        {
          "name": "stdout",
          "output_type": "stream",
          "text": [
            "The number is not positive.\n"
          ]
        }
      ],
      "source": [
        "# Example: Check if a number is positive or non-positive\n",
        "num = -3\n",
        "if num > 0:\n",
        "    print(\"The number is positive.\")\n",
        "else:\n",
        "    print(\"The number is not positive.\")\n"
      ]
    },
    {
      "cell_type": "markdown",
      "id": "62f245fc-97f3-4e56-8def-b3003a929232",
      "metadata": {
        "id": "62f245fc-97f3-4e56-8def-b3003a929232"
      },
      "source": [
        "### if-elif-else Statement\n",
        "The if-elif-else chain is useful when multiple conditions need to be checked."
      ]
    },
    {
      "cell_type": "code",
      "execution_count": null,
      "id": "2f30012b-fd73-43c6-bd17-bf13f3ccfa90",
      "metadata": {
        "id": "2f30012b-fd73-43c6-bd17-bf13f3ccfa90",
        "outputId": "13c8b02b-cf62-4804-c969-c58db1c2d1e5"
      },
      "outputs": [
        {
          "name": "stdout",
          "output_type": "stream",
          "text": [
            "The number is zero.\n"
          ]
        }
      ],
      "source": [
        "# Example: Check if a number is positive, negative, or zero\n",
        "num = 0\n",
        "if num > 0:\n",
        "    print(\"The number is positive.\")\n",
        "elif num < 0:\n",
        "    print(\"The number is negative.\")\n",
        "else:\n",
        "    print(\"The number is zero.\")\n"
      ]
    },
    {
      "cell_type": "markdown",
      "id": "717ab027-1070-4fbd-927c-398635cffd64",
      "metadata": {
        "id": "717ab027-1070-4fbd-927c-398635cffd64"
      },
      "source": [
        "### Nested if Statements\n",
        "Using if statements inside other if statements is called nesting and allows for complex condition checks."
      ]
    },
    {
      "cell_type": "code",
      "execution_count": null,
      "id": "596c53ea-d7ab-4b55-ad02-6d88f50bc3ad",
      "metadata": {
        "id": "596c53ea-d7ab-4b55-ad02-6d88f50bc3ad",
        "outputId": "fb2c5bf1-dcc3-49a4-c550-dfa781418798"
      },
      "outputs": [
        {
          "name": "stdout",
          "output_type": "stream",
          "text": [
            "The number is positive and even.\n"
          ]
        }
      ],
      "source": [
        "# Example: Check if a number is positive and even\n",
        "num = 6\n",
        "if num > 0:\n",
        "    if num % 2 == 0:\n",
        "        print(\"The number is positive and even.\")\n",
        "    else:\n",
        "        print(\"The number is positive and odd.\")\n",
        "else:\n",
        "    print(\"The number is not positive.\")\n"
      ]
    },
    {
      "cell_type": "code",
      "execution_count": null,
      "id": "0fb59d58-cd92-49c5-b775-d4aae723dc36",
      "metadata": {
        "id": "0fb59d58-cd92-49c5-b775-d4aae723dc36",
        "outputId": "748a09be-9f11-4d00-9f83-a5388a9c1086"
      },
      "outputs": [
        {
          "name": "stdout",
          "output_type": "stream",
          "text": [
            "The number is between 5 and 15.\n"
          ]
        }
      ],
      "source": [
        "# Example: Check if a number is within a specific range(logical operators)\n",
        "num = 10\n",
        "if num > 5 and num < 15:\n",
        "    print(\"The number is between 5 and 15.\")\n"
      ]
    },
    {
      "cell_type": "markdown",
      "id": "a0254246-b441-4b57-a8ec-c591fa874c56",
      "metadata": {
        "id": "a0254246-b441-4b57-a8ec-c591fa874c56"
      },
      "source": [
        "### Looping Statements: for and while\n",
        "Key Points <br>\n",
        "- Loops allow for repeated execution of a code block.\n",
        "- for loops iterate over sequences (like lists, tuples, strings) or ranges.\n",
        "- while loops execute code as long as a condition remains True"
      ]
    },
    {
      "cell_type": "code",
      "execution_count": null,
      "id": "5f37ebe1-3d4d-4ff5-b5ed-72ffc4926bf5",
      "metadata": {
        "id": "5f37ebe1-3d4d-4ff5-b5ed-72ffc4926bf5",
        "outputId": "53bbd1a7-0d74-4f50-e208-29d8ed9d3f8b"
      },
      "outputs": [
        {
          "name": "stdout",
          "output_type": "stream",
          "text": [
            "apple\n",
            "banana\n",
            "cherry\n",
            "0\n",
            "1\n",
            "2\n",
            "3\n",
            "4\n"
          ]
        }
      ],
      "source": [
        "# Example: Print each item in a list\n",
        "fruits = [\"apple\", \"banana\", \"cherry\"]\n",
        "for a in fruits:\n",
        "    print(a)\n",
        "# Example: Print numbers from 0 to 4\n",
        "for i in range(5):\n",
        "    print(i)\n"
      ]
    },
    {
      "cell_type": "code",
      "execution_count": null,
      "id": "f7db4e42-9845-41d2-ad2f-3d556106901c",
      "metadata": {
        "id": "f7db4e42-9845-41d2-ad2f-3d556106901c",
        "outputId": "956da447-2150-491a-88d3-b92d1182b344"
      },
      "outputs": [
        {
          "name": "stdout",
          "output_type": "stream",
          "text": [
            "1\n",
            "2\n",
            "3\n",
            "4\n",
            "5\n"
          ]
        }
      ],
      "source": [
        "# Example: Print numbers from 1 to 5\n",
        "count = 1\n",
        "while count <= 5:\n",
        "    print(count)\n",
        "    count += 1\n",
        "\n"
      ]
    },
    {
      "cell_type": "code",
      "execution_count": null,
      "id": "07c8894b-5d32-418e-b5f8-1aa04a882e22",
      "metadata": {
        "id": "07c8894b-5d32-418e-b5f8-1aa04a882e22",
        "outputId": "7053c566-500f-46a3-ab23-0f8040fd2688"
      },
      "outputs": [
        {
          "name": "stdout",
          "output_type": "stream",
          "text": [
            "2\n",
            "4\n",
            "6\n"
          ]
        }
      ],
      "source": [
        "# Example: Print only even numbers from a list\n",
        "numbers = [1, 2, 3, 4, 5, 6]\n",
        "for num in numbers:\n",
        "    if num % 2 == 0:\n",
        "        print(num)\n"
      ]
    },
    {
      "cell_type": "markdown",
      "id": "628c318d-9639-4ebd-81d2-961923ac97aa",
      "metadata": {
        "id": "628c318d-9639-4ebd-81d2-961923ac97aa"
      },
      "source": [
        "### Using break and continue\n",
        "- break: Immediately exits the loop.\n",
        "- continue: Skips the rest of the code inside the loop for the current iteration and moves to the next iteration.\n",
        "- pass: Does nothing; it’s a placeholder for code that hasn’t been written yet.\n",
        "\n"
      ]
    },
    {
      "cell_type": "code",
      "execution_count": null,
      "id": "79f167e4-d568-4b8e-93f4-8794065295b5",
      "metadata": {
        "id": "79f167e4-d568-4b8e-93f4-8794065295b5",
        "outputId": "ab83316a-5328-435d-d9f9-f893b84db988"
      },
      "outputs": [
        {
          "name": "stdout",
          "output_type": "stream",
          "text": [
            "apple\n",
            "mango\n"
          ]
        }
      ],
      "source": [
        "# Example: Stop the loop when 'banana' is found\n",
        "fruits = [\"apple\",'mango', \"banana\", \"cherry\"]\n",
        "for f in fruits:\n",
        "    if f == \"banana\":\n",
        "        break\n",
        "    print(f)\n"
      ]
    },
    {
      "cell_type": "code",
      "execution_count": null,
      "id": "2e075d63-1f01-4247-a1d0-65395db52bda",
      "metadata": {
        "id": "2e075d63-1f01-4247-a1d0-65395db52bda",
        "outputId": "c964522f-6ae9-4ed7-b2b9-80440e0b1e96"
      },
      "outputs": [
        {
          "name": "stdout",
          "output_type": "stream",
          "text": [
            "0 it is not inside if \n",
            "1 it is not inside if \n",
            "2 it is not inside if \n",
            "4 it is not inside if \n"
          ]
        }
      ],
      "source": [
        "# Example: Skip the number 3\n",
        "for i in range(5):\n",
        "    if i == 3:\n",
        "\n",
        "        continue  # Skip the current iteration\n",
        "        print(\"3 is inside if\",i)\n",
        "    print(i,\"it is not inside if \")"
      ]
    },
    {
      "cell_type": "code",
      "execution_count": null,
      "id": "e80e88e5-161d-4b0b-a450-ddaa10465d56",
      "metadata": {
        "id": "e80e88e5-161d-4b0b-a450-ddaa10465d56",
        "outputId": "7a937321-1209-47e6-c7de-ea479ed4c676"
      },
      "outputs": [
        {
          "name": "stdout",
          "output_type": "stream",
          "text": [
            "0\n",
            "1\n",
            "2\n",
            "4\n"
          ]
        }
      ],
      "source": [
        "#pass\n",
        "for i in range(5):\n",
        "    if i == 3:\n",
        "        pass  # No action needed for i == 3\n",
        "    else:\n",
        "        print(i)"
      ]
    },
    {
      "cell_type": "code",
      "execution_count": null,
      "id": "1bc0d019-675c-424e-b47c-d35fdd06d5f5",
      "metadata": {
        "id": "1bc0d019-675c-424e-b47c-d35fdd06d5f5",
        "outputId": "d33aa269-9787-4705-a8ad-b92d560ad79b"
      },
      "outputs": [
        {
          "name": "stdin",
          "output_type": "stream",
          "text": [
            " 5\n"
          ]
        }
      ],
      "source": [
        "if str(input())==5:\n",
        "    print(\"true\")"
      ]
    },
    {
      "cell_type": "markdown",
      "id": "88e1ca15-2916-4dc6-875c-bcbb975e84c8",
      "metadata": {
        "id": "88e1ca15-2916-4dc6-875c-bcbb975e84c8"
      },
      "source": [
        "### Functions in Python\n",
        "#### Key Points\n",
        "- Functions are reusable blocks of code that perform a specific task.\n",
        "- Defining a function involves using the def keyword followed by a function name, parameters, and a code block.\n",
        "- Calling a function runs the code within it.\n",
        "- Functions help modularize code, making it more organized and manageable.\n",
        "\n",
        "### Defining and Calling a Basic Function\n",
        "Functions are defined with the def keyword, followed by the function name and parentheses.\n"
      ]
    },
    {
      "cell_type": "code",
      "execution_count": null,
      "id": "74ae9ace-0e58-4db0-bed9-2b2a67190d67",
      "metadata": {
        "id": "74ae9ace-0e58-4db0-bed9-2b2a67190d67",
        "outputId": "f0372560-31d0-4c4c-884e-157c65522c3f"
      },
      "outputs": [
        {
          "name": "stdout",
          "output_type": "stream",
          "text": [
            "Hello! Welcome to Python.\n"
          ]
        }
      ],
      "source": [
        "# Example: Basic greeting function\n",
        "def greet():\n",
        "    print(\"Hello! Welcome to Python.\")\n",
        "\n",
        "# Calling the function\n",
        "greet()\n"
      ]
    },
    {
      "cell_type": "markdown",
      "id": "b6e53ab5-5bbb-49ce-b8ef-aa8844463cd5",
      "metadata": {
        "id": "b6e53ab5-5bbb-49ce-b8ef-aa8844463cd5"
      },
      "source": [
        "### Functions with Parameters\n",
        "Parameters allow functions to accept input values, making them more flexible."
      ]
    },
    {
      "cell_type": "code",
      "execution_count": null,
      "id": "566b31ea-4d38-4a4a-90f4-ef66c41b0e74",
      "metadata": {
        "id": "566b31ea-4d38-4a4a-90f4-ef66c41b0e74",
        "outputId": "16bfbcd5-7531-4079-b017-2665142f92a3"
      },
      "outputs": [
        {
          "name": "stdout",
          "output_type": "stream",
          "text": [
            "Hello, Alice!\n"
          ]
        }
      ],
      "source": [
        "# Example: Greeting function with a name parameter\n",
        "'''syntax\n",
        "def function_name():\n",
        "'''\n",
        "def greet(name):\n",
        "    print(f\"Hello, {name}!\")\n",
        "\n",
        "# Calling the function with an argument\n",
        "greet(\"Alice\")\n"
      ]
    },
    {
      "cell_type": "markdown",
      "id": "108f9d4d-f210-4312-a663-69ed0872e39a",
      "metadata": {
        "id": "108f9d4d-f210-4312-a663-69ed0872e39a"
      },
      "source": [
        "### Functions with Multiple Parameters\n",
        "A function can have multiple parameters to perform more complex tasks."
      ]
    },
    {
      "cell_type": "code",
      "execution_count": null,
      "id": "5c5c1b54-2b15-4b4c-b946-5f34eaf16dfd",
      "metadata": {
        "id": "5c5c1b54-2b15-4b4c-b946-5f34eaf16dfd",
        "outputId": "f1ad5d8f-8055-4c96-f53d-9aa540307289"
      },
      "outputs": [
        {
          "name": "stdout",
          "output_type": "stream",
          "text": [
            "The sum of 3 and 5 is 8\n"
          ]
        }
      ],
      "source": [
        "# Example: Add two numbers\n",
        "def add(a, b):\n",
        "    result = a + b\n",
        "    print(f\"The sum of {a} and {b} is {result}\")\n",
        "\n",
        "# Calling the function\n",
        "add(3, 5)\n"
      ]
    },
    {
      "cell_type": "markdown",
      "id": "9c0e0772-a462-41a8-93ee-dc78622bee02",
      "metadata": {
        "id": "9c0e0772-a462-41a8-93ee-dc78622bee02"
      },
      "source": [
        "### Return Statement\n",
        "The return statement allows a function to output a value back to the caller, making it useful in calculations and data processing."
      ]
    },
    {
      "cell_type": "code",
      "execution_count": null,
      "id": "5c3cb0f6-a765-4f68-8854-4771c9d82033",
      "metadata": {
        "id": "5c3cb0f6-a765-4f68-8854-4771c9d82033",
        "outputId": "e0de1415-7eba-4456-a5d1-37b7f6a26894"
      },
      "outputs": [
        {
          "name": "stdout",
          "output_type": "stream",
          "text": [
            "Square: 16\n"
          ]
        }
      ],
      "source": [
        "# Example: Function that returns the square of a number\n",
        "def square(num):\n",
        "    return num * num\n",
        "\n",
        "# Storing and printing the result\n",
        "result = square(4)\n",
        "print(\"Square:\", result)\n"
      ]
    },
    {
      "cell_type": "markdown",
      "id": "a5be3bd3-4da7-4f95-a801-2109542520ed",
      "metadata": {
        "id": "a5be3bd3-4da7-4f95-a801-2109542520ed"
      },
      "source": [
        "### Default Parameters\n",
        "Default parameters give a default value to parameters, which makes them optional when calling the function."
      ]
    },
    {
      "cell_type": "code",
      "execution_count": null,
      "id": "6f2bf75b-a326-4a8b-8676-328e90c57243",
      "metadata": {
        "id": "6f2bf75b-a326-4a8b-8676-328e90c57243",
        "outputId": "b461a642-b05a-4606-ce9f-ad346cbda108"
      },
      "outputs": [
        {
          "name": "stdout",
          "output_type": "stream",
          "text": [
            "Hello, Alice!\n",
            "Hello, Guest!\n"
          ]
        }
      ],
      "source": [
        "# Example: Greet with a default name\n",
        "def greet(name=\"Guest\"):\n",
        "    print(f\"Hello, {name}!\")\n",
        "\n",
        "# Calling with and without an argument\n",
        "greet(\"Alice\")\n",
        "greet()"
      ]
    },
    {
      "cell_type": "markdown",
      "id": "a2872ccc-2ad2-4b96-9e89-d82ae46e5cca",
      "metadata": {
        "id": "a2872ccc-2ad2-4b96-9e89-d82ae46e5cca"
      },
      "source": [
        "### Keyword Arguments\n",
        "Keyword arguments allow you to specify values by parameter names, useful when a function has many parameters."
      ]
    },
    {
      "cell_type": "code",
      "execution_count": null,
      "id": "12264902-684f-4268-9bdd-cdebecbee35a",
      "metadata": {
        "id": "12264902-684f-4268-9bdd-cdebecbee35a",
        "outputId": "5fb2d295-879b-4382-dda5-ac5d94cc56e6"
      },
      "outputs": [
        {
          "name": "stdout",
          "output_type": "stream",
          "text": [
            "Order: 3 L T-shirt(s)\n",
            "Order: 1 M Tie(s)\n"
          ]
        }
      ],
      "source": [
        "# Example: Order function with keyword arguments\n",
        "def order(item, quantity=1, size=\"M\"):\n",
        "    print(f\"Order: {quantity} {size} {item}(s)\")\n",
        "\n",
        "# Calling with keyword arguments\n",
        "order(item=\"T-shirt\", size=\"L\", quantity=3)\n",
        "order(\"Tie\")\n"
      ]
    },
    {
      "cell_type": "markdown",
      "id": "649f3fa2-fc3a-4f7e-9dbe-37f010b747b4",
      "metadata": {
        "id": "649f3fa2-fc3a-4f7e-9dbe-37f010b747b4"
      },
      "source": [
        "### Variable-Length Arguments (*args and **kwargs)\n",
        "*args: Allows a function to accept multiple positional arguments.<br>\n",
        "**kwargs: Allows a function to accept multiple keyword arguments."
      ]
    },
    {
      "cell_type": "code",
      "execution_count": null,
      "id": "58e2af2a-27c1-4c1c-8261-bdf6e492bf07",
      "metadata": {
        "id": "58e2af2a-27c1-4c1c-8261-bdf6e492bf07",
        "outputId": "0c6d1a11-1921-439f-f8e1-ad22567546c0"
      },
      "outputs": [
        {
          "name": "stdout",
          "output_type": "stream",
          "text": [
            "Sum: 15\n",
            "name: Alice\n",
            "age: 25\n",
            "city: New York\n"
          ]
        }
      ],
      "source": [
        "# Example: Using *args for a flexible addition function\n",
        "def add_all(*args):\n",
        "    return sum(args)\n",
        "\n",
        "# Calling the function\n",
        "print(\"Sum:\", add_all(1, 2, 3, 4, 5))\n",
        "\n",
        "# Example: Using **kwargs for flexible greeting\n",
        "def introduce(**kwargs):\n",
        "    for key, value in kwargs.items():\n",
        "        print(f\"{key}: {value}\")\n",
        "\n",
        "# Calling the function\n",
        "introduce(name=\"Alice\", age=25, city=\"New York\")\n"
      ]
    },
    {
      "cell_type": "markdown",
      "id": "066a3ed2-c89c-4bc1-afb1-aefb7c13a56d",
      "metadata": {
        "id": "066a3ed2-c89c-4bc1-afb1-aefb7c13a56d"
      },
      "source": [
        "<h3>LAMBDA FUNCTION</h3>\n",
        "A lambda function is a small anonymous function.<br>\n",
        "A lambda function can take any number of arguments, but can only have one expression.\n",
        "\n"
      ]
    },
    {
      "cell_type": "code",
      "execution_count": null,
      "id": "30d81a4e-2cf0-4329-a63d-9c70a4e35fa7",
      "metadata": {
        "id": "30d81a4e-2cf0-4329-a63d-9c70a4e35fa7",
        "outputId": "c7100d58-ae25-43f8-fac7-0f3596186e04"
      },
      "outputs": [
        {
          "name": "stdout",
          "output_type": "stream",
          "text": [
            "Sum: 0\n"
          ]
        }
      ],
      "source": [
        "# Example: Lambda function for adding two numbers\n",
        "'''syntax\n",
        "lambda arguments : expression\n",
        "'''\n",
        "add = lambda x, y,z:( x + y)-z\n",
        "print(\"Sum:\", add(3, 5,8))\n"
      ]
    },
    {
      "cell_type": "markdown",
      "id": "2e73c687-1350-4d51-b827-e01130d867ee",
      "metadata": {
        "id": "2e73c687-1350-4d51-b827-e01130d867ee"
      },
      "source": [
        "## Class\n",
        "A class defines the attributes (data) and methods (functions) that an object of the class will have. Classes are created using the class keyword.\n",
        "## Object\n",
        "An object is an instance of a class created using the class name. Each object has its own set of data and can use the methods defined in the class.\n",
        "<img src=\"https://scaler.com/topics/images/class-in-python-1024x858.webp\">"
      ]
    },
    {
      "cell_type": "code",
      "execution_count": null,
      "id": "7b48dff9-f6fe-4b93-bc9b-3c3f9a039398",
      "metadata": {
        "id": "7b48dff9-f6fe-4b93-bc9b-3c3f9a039398",
        "outputId": "31f880ea-9115-4418-d580-9ad48ed14da5"
      },
      "outputs": [
        {
          "name": "stdout",
          "output_type": "stream",
          "text": [
            "HP\n",
            "hello\n"
          ]
        }
      ],
      "source": [
        "# Defining a class\n",
        "class system:\n",
        "    #class variable OR attribute\n",
        "    brand=\"HP\"\n",
        "    #class method or function\n",
        "    def info(self):\n",
        "        print(\"hello\")\n",
        "\n",
        "a=system()\n",
        "print(a.brand)\n",
        "a.info()\n"
      ]
    },
    {
      "cell_type": "code",
      "execution_count": null,
      "id": "d7a0190e-b6c6-447d-97bf-5cac1f875a0e",
      "metadata": {
        "colab": {
          "base_uri": "https://localhost:8080/"
        },
        "id": "d7a0190e-b6c6-447d-97bf-5cac1f875a0e",
        "outputId": "c4db78c9-bac5-4fd4-bc8b-1261af96cc58"
      },
      "outputs": [
        {
          "output_type": "stream",
          "name": "stdout",
          "text": [
            "hello\n"
          ]
        }
      ],
      "source": [
        "class Dog:\n",
        "    # Initializer method/inbuilt constructer\n",
        "    def __init__(self, name, breed):\n",
        "        self.name = name      # attribute 'name'\n",
        "        self.breed = breed # attribute 'breed'\n",
        "\n",
        "    def __init__(self):\n",
        "        print(\"hello\")\n",
        "\n",
        "    # Method to display dog's info\n",
        "    def bark(self):\n",
        "        print(f\"{self.name} says Woof!\")\n",
        "\n",
        "a=Dog()\n",
        "\n"
      ]
    },
    {
      "cell_type": "markdown",
      "id": "fd95d0d2-1d67-4495-8e80-f30081a0011a",
      "metadata": {
        "id": "fd95d0d2-1d67-4495-8e80-f30081a0011a"
      },
      "source": [
        "#### In this example:\n",
        "\n",
        "#### Dog is a class.\n",
        "__init__ is a special method (initializer) that automatically runs when an object is created, setting the initial values of name and breed.\n",
        "self represents the instance itself and allows access to the instance's attributes and methods.\n"
      ]
    },
    {
      "cell_type": "code",
      "execution_count": null,
      "id": "e3af2808-4013-4a00-b12f-714d5912b3c3",
      "metadata": {
        "colab": {
          "base_uri": "https://localhost:8080/"
        },
        "id": "e3af2808-4013-4a00-b12f-714d5912b3c3",
        "outputId": "95c66de7-6887-4039-ef1d-334b212daee6"
      },
      "outputs": [
        {
          "output_type": "stream",
          "name": "stdout",
          "text": [
            "Buddy\n",
            "Golden Retriever\n",
            "Buddy says Woof!\n",
            "Theo says Woof!\n"
          ]
        }
      ],
      "source": [
        "class Dog:\n",
        "    def __init__(self, name, breed):\n",
        "        self.n = name      # attribute 'n' for name\n",
        "        self.b = breed     # attribute 'b' for breed\n",
        "\n",
        "    def bark(self):\n",
        "        print(f\"{self.n} says Woof!\")\n",
        "\n",
        "# Creating objects\n",
        "dog1 = Dog(\"Buddy\", \"Golden Retriever\")\n",
        "dog2 = Dog(\"Theo\", \"German Shepherd\")\n",
        "\n",
        "# Accessing attributes and methods\n",
        "print(dog1.n)     # Output: Buddy\n",
        "print(dog1.b)     # Output: Golden Retriever\n",
        "dog1.bark()       # Output: Buddy says Woof!\n",
        "dog2.bark()       # Output: Theo says Woof!\n"
      ]
    },
    {
      "cell_type": "markdown",
      "source": [],
      "metadata": {
        "id": "QBEFPVJ8g0pd"
      },
      "id": "QBEFPVJ8g0pd"
    },
    {
      "cell_type": "markdown",
      "id": "debb242f-d587-4233-b052-4deacd016aac",
      "metadata": {
        "id": "debb242f-d587-4233-b052-4deacd016aac"
      },
      "source": [
        "### Inheritance is a feature of object-oriented programming that allows a class (called a child or subclass) to inherit attributes and methods from another class (called a parent or superclass).\n",
        "#### Types of inheritance\n",
        "1.Single Inheritance<br>\n",
        "A child class inherits from one parent class."
      ]
    },
    {
      "cell_type": "code",
      "execution_count": null,
      "id": "2d8e0143-7d83-4d88-818e-1abdd57b9335",
      "metadata": {
        "id": "2d8e0143-7d83-4d88-818e-1abdd57b9335",
        "outputId": "4eb92e99-025f-41be-c5c3-b7fb6c3ae814"
      },
      "outputs": [
        {
          "name": "stdout",
          "output_type": "stream",
          "text": [
            "Hello from Parent\n",
            "Hello from Child\n"
          ]
        }
      ],
      "source": [
        "class Parent:\n",
        "    def greet(self):\n",
        "        print(\"Hello from Parent\")\n",
        "\n",
        "class Child(Parent):\n",
        "    def display(self):\n",
        "        print(\"Hello from Child\")\n",
        "\n",
        "obj = Child()\n",
        "obj.greet()  # Inherited from Parent\n",
        "obj.display()\n"
      ]
    },
    {
      "cell_type": "markdown",
      "id": "07d55e43-9ee2-482a-ace8-6787b6d6f1ee",
      "metadata": {
        "id": "07d55e43-9ee2-482a-ace8-6787b6d6f1ee"
      },
      "source": [
        "#### Multiple Inheritance<br>\n",
        "A child class inherits from multiple parent classes."
      ]
    },
    {
      "cell_type": "code",
      "execution_count": null,
      "id": "f2811e9e-46d9-4c76-8384-998fbb6229f3",
      "metadata": {
        "id": "f2811e9e-46d9-4c76-8384-998fbb6229f3",
        "outputId": "4ca6ff6f-6b0e-47ef-d948-5133d0e90aeb"
      },
      "outputs": [
        {
          "name": "stdout",
          "output_type": "stream",
          "text": [
            "2 Hello from Parent1\n",
            "Hello from Parent2\n",
            "Hello from Child\n"
          ]
        }
      ],
      "source": [
        "class Parent1:\n",
        "    def greet1(self,num):\n",
        "        self.num=num\n",
        "        print(f\"{self.num} Hello from Parent1\")\n",
        "\n",
        "class Parent2:\n",
        "    def greet2(self):\n",
        "        print(\"Hello from Parent2\")\n",
        "\n",
        "class Child(Parent1, Parent2):\n",
        "    def greet_child(self):\n",
        "        print(\"Hello from Child\")\n",
        "\n",
        "obj = Child()\n",
        "obj.greet1(2)\n",
        "obj.greet2()\n",
        "obj.greet_child()\n"
      ]
    },
    {
      "cell_type": "markdown",
      "id": "ff06caee-99ca-47ac-a266-9b79c9c598da",
      "metadata": {
        "id": "ff06caee-99ca-47ac-a266-9b79c9c598da"
      },
      "source": [
        "#### Multilevel Inheritance\n",
        "A class inherits from a child class, which in turn inherits from another parent class."
      ]
    },
    {
      "cell_type": "code",
      "execution_count": null,
      "id": "c3b0e343-db7b-461f-bc71-c020e11ccb12",
      "metadata": {
        "id": "c3b0e343-db7b-461f-bc71-c020e11ccb12",
        "outputId": "c3edaa76-8932-4166-99ae-0e36681afa01"
      },
      "outputs": [
        {
          "name": "stdout",
          "output_type": "stream",
          "text": [
            "Hello from Grandparent\n",
            "Hello from Parent\n",
            "Hello from Child\n"
          ]
        }
      ],
      "source": [
        "class Grandparent:\n",
        "    def greet_grandparent(self):\n",
        "        print(\"Hello from Grandparent\")\n",
        "\n",
        "class Parent(Grandparent):\n",
        "    def greet_parent(self):\n",
        "        print(\"Hello from Parent\")\n",
        "\n",
        "class Child(Parent):\n",
        "    def greet_child(self):\n",
        "        print(\"Hello from Child\")\n",
        "\n",
        "obj = Child()\n",
        "obj.greet_grandparent()\n",
        "obj.greet_parent()\n",
        "obj.greet_child()\n"
      ]
    },
    {
      "cell_type": "markdown",
      "id": "3e7dbdd6-09e1-4e80-8d3f-d07a7610c76c",
      "metadata": {
        "id": "3e7dbdd6-09e1-4e80-8d3f-d07a7610c76c"
      },
      "source": [
        "#### Hierarchical Inheritance\n",
        "Multiple child classes inherit from a single parent class.\n"
      ]
    },
    {
      "cell_type": "code",
      "execution_count": null,
      "id": "03632e93-7505-4732-9239-07d8ccd5b714",
      "metadata": {
        "id": "03632e93-7505-4732-9239-07d8ccd5b714",
        "outputId": "3224ffd0-3bcd-4d06-db86-361f9c45af0f"
      },
      "outputs": [
        {
          "name": "stdout",
          "output_type": "stream",
          "text": [
            "Hello from Parent\n",
            "Hello from Parent\n"
          ]
        }
      ],
      "source": [
        "class Parent:\n",
        "    def greet(self):\n",
        "        print(\"Hello from Parent\")\n",
        "\n",
        "class Child1(Parent):\n",
        "    def greet_child1(self):\n",
        "        print(\"Hello from Child1\")\n",
        "\n",
        "class Child2(Parent):\n",
        "    def greet_child2(self):\n",
        "        print(\"Hello from Child2\")\n",
        "\n",
        "obj1 = Child1()\n",
        "obj2 = Child2()\n",
        "obj1.greet()\n",
        "obj2.greet()\n"
      ]
    },
    {
      "cell_type": "markdown",
      "id": "2cadc785-c069-4dc2-aa4c-654e79cba299",
      "metadata": {
        "id": "2cadc785-c069-4dc2-aa4c-654e79cba299"
      },
      "source": [
        "#### Hybrid Inheritance\n",
        "A combination of two or more types of inheritance.\n",
        "\n"
      ]
    },
    {
      "cell_type": "markdown",
      "id": "d705b95d-0eee-4d7f-ab7d-b0eda48f621d",
      "metadata": {
        "id": "d705b95d-0eee-4d7f-ab7d-b0eda48f621d"
      },
      "source": [
        "## POLYMORPHISM\n",
        "The word \"polymorphism\" means \"many forms\", and in programming it refers to methods/functions/operators with the same name that can be executed on many objects or classes.\n",
        "\n"
      ]
    },
    {
      "cell_type": "code",
      "execution_count": null,
      "id": "a31f099e-55ba-46e4-91ec-e84898d002f1",
      "metadata": {
        "id": "a31f099e-55ba-46e4-91ec-e84898d002f1",
        "outputId": "e03ca0ed-14b2-4b34-d696-28d552c06cd1"
      },
      "outputs": [
        {
          "name": "stdout",
          "output_type": "stream",
          "text": [
            "Drive!\n",
            "Sail!\n",
            "Fly!\n"
          ]
        }
      ],
      "source": [
        "class Car:\n",
        "  def __init__(self, brand, model):\n",
        "    self.brand = brand\n",
        "    self.model = model\n",
        "\n",
        "  def move(self):\n",
        "    print(\"Drive!\")\n",
        "\n",
        "class Boat:\n",
        "  def __init__(self, brand, model):\n",
        "    self.brand = brand\n",
        "    self.model = model\n",
        "\n",
        "  def move(self):\n",
        "    print(\"Sail!\")\n",
        "\n",
        "class Plane:\n",
        "  def __init__(self, brand, model):\n",
        "    self.brand = brand\n",
        "    self.model = model\n",
        "\n",
        "  def move(self):\n",
        "    print(\"Fly!\")\n",
        "\n",
        "car1 = Car(\"Ford\", \"Mustang\")       #Create a Car class\n",
        "boat1 = Boat(\"Ibiza\", \"Touring 20\") #Create a Boat class\n",
        "plane1 = Plane(\"Boeing\", \"747\")     #Create a Plane class\n",
        "\n",
        "for x in (car1, boat1, plane1):\n",
        "  x.move()\n"
      ]
    },
    {
      "cell_type": "code",
      "execution_count": null,
      "id": "f9dcdb4c-d091-45a9-b522-2b6c04f3630c",
      "metadata": {
        "id": "f9dcdb4c-d091-45a9-b522-2b6c04f3630c",
        "outputId": "e6f4effd-59e8-48a4-bd0e-8a4935852f22"
      },
      "outputs": [
        {
          "name": "stdout",
          "output_type": "stream",
          "text": [
            "Ford\n",
            "Mustang\n",
            "Move!\n",
            "Ibiza\n",
            "Touring 20\n",
            "Sail!\n",
            "Boeing\n",
            "747\n",
            "Fly!\n"
          ]
        }
      ],
      "source": [
        "class Vehicle:\n",
        "  def __init__(self, brand, model):\n",
        "    self.brand = brand\n",
        "    self.model = model\n",
        "\n",
        "  def move(self):\n",
        "    print(\"Move!\")\n",
        "\n",
        "class Car(Vehicle):\n",
        "  pass\n",
        "\n",
        "class Boat(Vehicle):\n",
        "  def move(self):\n",
        "    print(\"Sail!\")\n",
        "\n",
        "class Plane(Vehicle):\n",
        "  def move(self):\n",
        "    print(\"Fly!\")\n",
        "\n",
        "car1 = Car(\"Ford\", \"Mustang\") #Create a Car object\n",
        "boat1 = Boat(\"Ibiza\", \"Touring 20\") #Create a Boat object\n",
        "plane1 = Plane(\"Boeing\", \"747\") #Create a Plane object\n",
        "\n",
        "for x in (car1, boat1, plane1):\n",
        "  print(x.brand)\n",
        "  print(x.model)\n",
        "  x.move()"
      ]
    },
    {
      "cell_type": "markdown",
      "id": "a7fd4a1a-c5eb-4069-bbec-3bd134137c2c",
      "metadata": {
        "id": "a7fd4a1a-c5eb-4069-bbec-3bd134137c2c"
      },
      "source": [
        "## File handling\n",
        "File handling in Python allows you to read from, write to, and manipulate files stored on your system. The basic operations include opening, reading, writing, and closing files. Here’s a guide to performing these tasks in Python.\n",
        "<br>\"r\" – Read (default mode)\n",
        "<br>\"w\" – Write (overwrites if the file exists)\n",
        "<br> \"a\" – Append (adds to the end of the file if it exists)\n",
        "<br>\"r+\" – Read and write\n",
        "<br> \"b\" – Binary mode (e.g., \"rb\" for reading in binary mode)"
      ]
    },
    {
      "cell_type": "code",
      "execution_count": null,
      "id": "534760f5-1aaa-47d9-9209-a84ea56269e8",
      "metadata": {
        "id": "534760f5-1aaa-47d9-9209-a84ea56269e8",
        "outputId": "ba7803b0-c077-43c7-d52b-fc516a357200"
      },
      "outputs": [
        {
          "name": "stdout",
          "output_type": "stream",
          "text": [
            "C:\\Users\\HP\n"
          ]
        }
      ],
      "source": [
        "import os\n",
        "print(os.getcwd())\n"
      ]
    },
    {
      "cell_type": "code",
      "execution_count": null,
      "id": "7f9a1cbe-79da-43a8-9e8f-abab4de2c394",
      "metadata": {
        "id": "7f9a1cbe-79da-43a8-9e8f-abab4de2c394",
        "outputId": "43e7619f-f811-40ce-c106-7322619f863d"
      },
      "outputs": [
        {
          "data": {
            "text/plain": [
              "'C:\\\\Users\\\\HP'"
            ]
          },
          "execution_count": 93,
          "metadata": {},
          "output_type": "execute_result"
        }
      ],
      "source": [
        "pwd"
      ]
    },
    {
      "cell_type": "code",
      "execution_count": null,
      "id": "d57355c1-35c3-44fb-b49d-de0d51d133b4",
      "metadata": {
        "id": "d57355c1-35c3-44fb-b49d-de0d51d133b4",
        "outputId": "f7a88b7d-6f12-42c8-f91f-a44da032a7c3"
      },
      "outputs": [
        {
          "name": "stdout",
          "output_type": "stream",
          "text": [
            "It is demo file to demonstrate file handling to the students\n",
            "Hope you guys understand this concept \n",
            "BEST OF LUCK!\n",
            "KEEP LEARNING!\n",
            "<_io.TextIOWrapper name='demo.txt' mode='r' encoding='cp1252'>\n"
          ]
        }
      ],
      "source": [
        "#varible name=open(\"filename\",\"mode\")\n",
        "file=open(\"demo.txt\",\"r\")\n",
        "print(file.read())\n",
        "print(file)"
      ]
    },
    {
      "cell_type": "code",
      "execution_count": null,
      "id": "06c1168b-4a9e-4bf2-a01a-7a5b51f3ff8e",
      "metadata": {
        "id": "06c1168b-4a9e-4bf2-a01a-7a5b51f3ff8e",
        "outputId": "f8792257-88d1-4e11-8e33-77bdb5839b03"
      },
      "outputs": [
        {
          "name": "stdout",
          "output_type": "stream",
          "text": [
            "Checking the write function\n",
            " It is demo file to demonstrate file handling to the studentsHope you guys understand this conceptBEST OF LUCK!KEEP LEARNING!\n",
            "<_io.TextIOWrapper name='C:\\\\Users\\\\HP\\\\OneDrive\\\\Desktop\\\\demo.txt' mode='r' encoding='cp1252'>\n"
          ]
        }
      ],
      "source": [
        "f=open(\"C:\\\\Users\\\\HP\\\\OneDrive\\\\Desktop\\\\demo.txt\",\"r\")\n",
        "print(f.read())\n",
        "print(f)"
      ]
    },
    {
      "cell_type": "code",
      "execution_count": null,
      "id": "927bb2a1-12d2-4363-9a3d-d717d56f9e28",
      "metadata": {
        "id": "927bb2a1-12d2-4363-9a3d-d717d56f9e28",
        "outputId": "93df1763-8510-4709-95eb-fb63551175ff"
      },
      "outputs": [
        {
          "name": "stdout",
          "output_type": "stream",
          "text": [
            "Checking the write function\n",
            "\n",
            " It is demo file to demonstrate file handling to the studentsHope you guys understand this conceptBEST OF LUCK!KEEP LEARNING!\n"
          ]
        }
      ],
      "source": [
        "f=open(r'C:\\Users\\HP\\OneDrive\\Desktop\\demo.txt',\"r\")\n",
        "print(f.readline()) #print 1 line\n",
        "print(f.read()) # print the rest of the line\n"
      ]
    },
    {
      "cell_type": "code",
      "execution_count": null,
      "id": "4538f0b1-172c-465f-ac3e-89b5c411312f",
      "metadata": {
        "id": "4538f0b1-172c-465f-ac3e-89b5c411312f"
      },
      "outputs": [],
      "source": [
        "f=open(r'C:\\Users\\HP\\OneDrive\\Desktop\\demo.txt',\"w\")\n",
        "f.write(\"Checking the write function\")\n",
        "f.close()\n"
      ]
    },
    {
      "cell_type": "code",
      "execution_count": null,
      "id": "a2e179bd-902d-4be5-90da-dae267eaf3cd",
      "metadata": {
        "id": "a2e179bd-902d-4be5-90da-dae267eaf3cd",
        "outputId": "c5188f57-a9ce-4d1e-ff52-71648db809af"
      },
      "outputs": [
        {
          "name": "stdout",
          "output_type": "stream",
          "text": [
            "Checking the write function\n"
          ]
        }
      ],
      "source": [
        "f=open(r'C:\\Users\\HP\\OneDrive\\Desktop\\demo.txt',\"r\")\n",
        "print(f.read())\n",
        "f.close()"
      ]
    },
    {
      "cell_type": "code",
      "execution_count": null,
      "id": "830d93ac-b903-4d86-8cc7-3244ff38aff7",
      "metadata": {
        "id": "830d93ac-b903-4d86-8cc7-3244ff38aff7",
        "outputId": "66ce72cd-46a8-46fa-cefd-04d6d6aec83a"
      },
      "outputs": [
        {
          "name": "stdout",
          "output_type": "stream",
          "text": [
            "Checking the write function\n",
            " It is demo file to demonstrate file handling to the studentsHope you guys understand this conceptBEST OF LUCK!KEEP LEARNING!\n"
          ]
        }
      ],
      "source": [
        "f=open(r'C:\\Users\\HP\\OneDrive\\Desktop\\demo.txt',\"a\")\n",
        "f.write(\"\\n It is demo file to demonstrate file handling to the students\")\n",
        "f.write(\"Hope you guys understand this concept\")\n",
        "f.write(\"BEST OF LUCK!\")\n",
        "f.write(\"KEEP LEARNING!\")\n",
        "f.close()\n",
        "f=open(r'C:\\Users\\HP\\OneDrive\\Desktop\\demo.txt',\"r\")\n",
        "print(f.read())"
      ]
    },
    {
      "cell_type": "markdown",
      "id": "074e4de7-d5d1-416e-a8d1-295a0e9e939f",
      "metadata": {
        "id": "074e4de7-d5d1-416e-a8d1-295a0e9e939f"
      },
      "source": [
        "## TRY AND ERROR"
      ]
    },
    {
      "cell_type": "code",
      "execution_count": null,
      "id": "b3502190-ff37-4ee5-9262-f69d542d9cf6",
      "metadata": {
        "id": "b3502190-ff37-4ee5-9262-f69d542d9cf6",
        "outputId": "687df8a6-07e0-417b-e21c-57cdb8e4a225"
      },
      "outputs": [
        {
          "name": "stdout",
          "output_type": "stream",
          "text": [
            "Sorry ! You are dividing by zero \n"
          ]
        }
      ],
      "source": [
        "# Python code to illustrate\n",
        "# working of try()\n",
        "def divide(x, y):\n",
        "    try:\n",
        "        # Floor Division : Gives only Fractional Part as Answer\n",
        "        result = x // y\n",
        "        print(\"Yeah ! Your answer is :\", result)\n",
        "    except ZeroDivisionError:\n",
        "        print(\"Sorry ! You are dividing by zero \")\n",
        "\n",
        "# Look at parameters and note the working of Program\n",
        "divide(3, 0)\n"
      ]
    },
    {
      "cell_type": "markdown",
      "id": "878fe34c-6dd0-4278-96bb-cd14d1cdb26c",
      "metadata": {
        "id": "878fe34c-6dd0-4278-96bb-cd14d1cdb26c"
      },
      "source": [
        "## NUMPY\n",
        "NumPy (Numerical Python) is a powerful Python library widely used for numerical computations, data analysis, and scientific computing. It provides support for working with arrays and matrices, along with an extensive collection of mathematical functions.\n",
        "\n",
        "<img src=\"https://miro.medium.com/v2/resize:fit:720/format:webp/0*p5YOY0e2EXIYHGma.png\">"
      ]
    },
    {
      "cell_type": "code",
      "execution_count": null,
      "id": "2cb907ff-8f58-42c0-8aeb-0571903082f7",
      "metadata": {
        "id": "2cb907ff-8f58-42c0-8aeb-0571903082f7",
        "outputId": "826d1c5b-9f96-464c-a7dc-6162da717278"
      },
      "outputs": [
        {
          "name": "stdout",
          "output_type": "stream",
          "text": [
            "[1 2 3 4 5]\n",
            "type <class 'numpy.ndarray'>\n"
          ]
        }
      ],
      "source": [
        "import numpy as np\n",
        "a=np.array([1,2,3,4,5])\n",
        "print(a)\n",
        "print(\"type\",type(a))\n"
      ]
    },
    {
      "cell_type": "code",
      "execution_count": null,
      "id": "a3f8137b-ce23-425e-b8b3-9c9d61b67ce6",
      "metadata": {
        "id": "a3f8137b-ce23-425e-b8b3-9c9d61b67ce6",
        "outputId": "913ca4d6-90d1-433c-a5f8-ee511fd1fb21"
      },
      "outputs": [
        {
          "name": "stdout",
          "output_type": "stream",
          "text": [
            "a[0]= 10\n",
            "[10  2  3  4  5]\n"
          ]
        }
      ],
      "source": [
        "a[0]=10\n",
        "print(\"a[0]=\",a[0])\n",
        "print(a)"
      ]
    },
    {
      "cell_type": "code",
      "execution_count": null,
      "id": "9385e666-b870-49ec-ba44-d48c8b1087ea",
      "metadata": {
        "id": "9385e666-b870-49ec-ba44-d48c8b1087ea",
        "outputId": "aa287afe-792e-4d64-c846-cfc1751e9e5d"
      },
      "outputs": [
        {
          "name": "stdout",
          "output_type": "stream",
          "text": [
            "[[ 1  2  3  4  5]\n",
            " [ 6  7  8  9 10]]\n",
            "5\n",
            "(2, 5)\n"
          ]
        }
      ],
      "source": [
        "b=np.array([[1,2,3,4,5],[6,7,8,9,10]])\n",
        "\n",
        "print(b)\n",
        "print(b[0,4])\n",
        "print(b.shape)"
      ]
    },
    {
      "cell_type": "code",
      "execution_count": null,
      "id": "a3b9c717-1c89-4d12-b8bd-1985d012bddf",
      "metadata": {
        "id": "a3b9c717-1c89-4d12-b8bd-1985d012bddf",
        "outputId": "c9cdc013-4cd7-4b58-af9b-040e88f4ea86"
      },
      "outputs": [
        {
          "name": "stdout",
          "output_type": "stream",
          "text": [
            "[[ 1  2]\n",
            " [ 3  4]\n",
            " [ 5  6]\n",
            " [ 7  8]\n",
            " [ 9 10]]\n"
          ]
        }
      ],
      "source": [
        "c=b.reshape(5,2)\n",
        "print(c)"
      ]
    },
    {
      "cell_type": "code",
      "execution_count": null,
      "id": "1444bea4-1084-4a1d-8e31-82710b119e0f",
      "metadata": {
        "id": "1444bea4-1084-4a1d-8e31-82710b119e0f",
        "outputId": "bbc3795d-3808-4c6b-880b-f3c4f5b26dde"
      },
      "outputs": [
        {
          "name": "stdout",
          "output_type": "stream",
          "text": [
            "[[0. 0. 0.]\n",
            " [0. 0. 0.]]\n",
            "[[1. 1. 1.]\n",
            " [1. 1. 1.]\n",
            " [1. 1. 1.]]\n",
            "[[0.25 0.5 ]\n",
            " [0.75 1.  ]]\n"
          ]
        }
      ],
      "source": [
        "print(np.zeros((2, 3)))  # 2x3 array of zeros\n",
        "print(np.ones((3, 3)))   # 3x3 array of ones\n",
        "print(np.empty((2, 2)))  # Uninitialized array\n"
      ]
    },
    {
      "cell_type": "code",
      "execution_count": null,
      "id": "2d427ebe-864b-4aa5-9239-9dea56c1f1dc",
      "metadata": {
        "id": "2d427ebe-864b-4aa5-9239-9dea56c1f1dc",
        "outputId": "eb8b7b99-9bb4-4ec8-e387-9be71ba2ca3d"
      },
      "outputs": [
        {
          "name": "stdout",
          "output_type": "stream",
          "text": [
            "[0 2 4 6 8]\n",
            "[0.   0.25 0.5  0.75 1.  ]\n"
          ]
        }
      ],
      "source": [
        "print(np.arange(0, 10, 2))  # Array: [0, 2, 4, 6, 8]\n",
        "print(np.linspace(0, 1, 5))  # 5 evenly spaced points: [0, 0.25, 0.5, 0.75, 1]"
      ]
    },
    {
      "cell_type": "code",
      "execution_count": null,
      "id": "cf0f3944-2ac9-43ae-82fb-59992332258f",
      "metadata": {
        "id": "cf0f3944-2ac9-43ae-82fb-59992332258f",
        "outputId": "bc7c18fa-0714-4c58-96ae-a7ad7660999c"
      },
      "outputs": [
        {
          "name": "stdout",
          "output_type": "stream",
          "text": [
            "[5 7 9]\n",
            "[-3 -3 -3]\n",
            "[ 4 10 18]\n",
            "[0.25 0.4  0.5 ]\n"
          ]
        }
      ],
      "source": [
        "a = np.array([1, 2, 3])\n",
        "b = np.array([4, 5, 6])\n",
        "print(a + b)  # Element-wise addition\n",
        "print(a - b)  # Element-wise subtraction\n",
        "print(a * b)  # Element-wise multiplication\n",
        "print(a / b)  # Element-wise division\n"
      ]
    },
    {
      "cell_type": "code",
      "execution_count": null,
      "id": "315d1a5d-7e58-46a9-a9c6-75ade1130aa8",
      "metadata": {
        "id": "315d1a5d-7e58-46a9-a9c6-75ade1130aa8",
        "outputId": "5ae3b2e1-2829-4c80-f4b5-c9efc47580a0"
      },
      "outputs": [
        {
          "name": "stdout",
          "output_type": "stream",
          "text": [
            "[[1 2]\n",
            " [3 4]]\n",
            "10\n",
            "2.5\n",
            "4\n",
            "1\n"
          ]
        }
      ],
      "source": [
        "arr = np.array([[1, 2], [3, 4]])\n",
        "print(arr)\n",
        "print(arr.sum())  # Sum of all elements\n",
        "print(arr.mean())  # Mean of all elements\n",
        "print(arr.max())   # Maximum value\n",
        "print(arr.min())   # Minimum value\n"
      ]
    },
    {
      "cell_type": "code",
      "execution_count": null,
      "id": "c8213789-7301-44ff-b7d6-9ffe9cf7143b",
      "metadata": {
        "id": "c8213789-7301-44ff-b7d6-9ffe9cf7143b",
        "outputId": "a3c3fa53-eada-4e84-ad09-1e0bf3eb61b4"
      },
      "outputs": [
        {
          "name": "stdout",
          "output_type": "stream",
          "text": [
            "[0.83274261 0.66747455 0.58889059]\n",
            "[[8 5 3]\n",
            " [3 7 4]]\n"
          ]
        }
      ],
      "source": [
        "print(np.random.rand(3))  # 3 random numbers between 0 and 1\n",
        "print(np.random.randint(1, 10, size=(2, 3)))  # 2x3 random integers from 1 to 10\n"
      ]
    },
    {
      "cell_type": "code",
      "execution_count": null,
      "id": "df5de0ae-c563-4261-afa4-51a0d99e2038",
      "metadata": {
        "id": "df5de0ae-c563-4261-afa4-51a0d99e2038",
        "outputId": "cc6fbc87-6d97-4e33-e132-5b06dae30073"
      },
      "outputs": [
        {
          "name": "stdout",
          "output_type": "stream",
          "text": [
            "[1 2 3 4 5 6]\n"
          ]
        }
      ],
      "source": [
        "arr1 = np.array([1, 2, 3])\n",
        "arr2 = np.array([4, 5, 6])\n",
        "arr = np.concatenate((arr1, arr2))\n",
        "print(arr)\n"
      ]
    },
    {
      "cell_type": "code",
      "execution_count": null,
      "id": "3f4fa0ff-7132-4f1a-bfec-3d852adaa38e",
      "metadata": {
        "id": "3f4fa0ff-7132-4f1a-bfec-3d852adaa38e",
        "outputId": "3a03300f-4c05-435a-ce61-209ba2bf7799"
      },
      "outputs": [
        {
          "name": "stdout",
          "output_type": "stream",
          "text": [
            "[[1 2]\n",
            " [3 4]\n",
            " [5 6]\n",
            " [7 8]]\n",
            "[[1 2 5 6]\n",
            " [3 4 7 8]]\n"
          ]
        }
      ],
      "source": [
        "a = np.array([[1, 2], [3, 4]])\n",
        "b = np.array([[5, 6], [7, 8]])\n",
        "\n",
        "# Concatenate along rows (axis=0)\n",
        "result = np.concatenate((a, b), axis=0)\n",
        "print(result)\n",
        "# Output:\n",
        "# [[1 2]\n",
        "#  [3 4]\n",
        "#  [5 6]\n",
        "#  [7 8]]\n",
        "\n",
        "# Concatenate along columns (axis=1)\n",
        "result = np.concatenate((a, b), axis=1)\n",
        "print(result)\n",
        "# Output:\n",
        "# [[1 2 5 6]\n",
        "#  [3 4 7 8]]\n"
      ]
    },
    {
      "cell_type": "markdown",
      "id": "d680aabd-2526-425d-bfdb-2c4bb2d7f698",
      "metadata": {
        "id": "d680aabd-2526-425d-bfdb-2c4bb2d7f698"
      },
      "source": [
        "<h4>np.vstack() (Vertical Stacking)<br>\n",
        "Stacks arrays vertically (row-wise). It is equivalent to np.concatenate() with axis=0"
      ]
    },
    {
      "cell_type": "code",
      "execution_count": null,
      "id": "a306c337-c265-4a62-a6e3-b15b4673fc82",
      "metadata": {
        "id": "a306c337-c265-4a62-a6e3-b15b4673fc82",
        "outputId": "bccb7456-22de-4f76-c335-ee4fb2324e5d"
      },
      "outputs": [
        {
          "name": "stdout",
          "output_type": "stream",
          "text": [
            "[[1 2 3]\n",
            " [4 5 6]]\n"
          ]
        }
      ],
      "source": [
        "a = np.array([1, 2, 3])\n",
        "b = np.array([4, 5, 6])\n",
        "\n",
        "result = np.vstack((a, b))\n",
        "print(result)\n",
        "# Output:\n",
        "# [[1 2 3]\n",
        "#  [4 5 6]]\n"
      ]
    },
    {
      "cell_type": "markdown",
      "id": "5daddc92-6c71-472f-aa60-709b1680b5f3",
      "metadata": {
        "id": "5daddc92-6c71-472f-aa60-709b1680b5f3"
      },
      "source": [
        "<h4>np.hstack() (Horizontal Stacking) <br>\n",
        "Stacks arrays horizontally (column-wise). It is equivalent to np.concatenate() with axis=1"
      ]
    },
    {
      "cell_type": "code",
      "execution_count": null,
      "id": "3ab8fb7f-a05d-4458-80c3-341663ab30fd",
      "metadata": {
        "id": "3ab8fb7f-a05d-4458-80c3-341663ab30fd",
        "outputId": "b631006d-0f1d-4802-9c76-464d607373b5"
      },
      "outputs": [
        {
          "name": "stdout",
          "output_type": "stream",
          "text": [
            "[[1 2 5 6]\n",
            " [3 4 7 8]]\n"
          ]
        }
      ],
      "source": [
        "a = np.array([[1, 2], [3, 4]])\n",
        "b = np.array([[5, 6], [7, 8]])\n",
        "\n",
        "result = np.hstack((a, b))\n",
        "print(result)\n",
        "# Output:\n",
        "# [[1 2 5 6]\n",
        "#  [3 4 7 8]]\n"
      ]
    },
    {
      "cell_type": "markdown",
      "id": "303919b9-2eff-473b-8276-6aecf3bd64ec",
      "metadata": {
        "id": "303919b9-2eff-473b-8276-6aecf3bd64ec"
      },
      "source": [
        "<h4>Pandas is a Python library widely used for data analysis and manipulation. It provides powerful tools for working with structured data, such as tabular data (like Excel spreadsheets or SQL tables), time series, or hierarchical data.\n",
        "\n"
      ]
    },
    {
      "cell_type": "code",
      "execution_count": null,
      "id": "695b23ae-bf73-4e54-8a32-3ab792354f2e",
      "metadata": {
        "id": "695b23ae-bf73-4e54-8a32-3ab792354f2e",
        "outputId": "a070f0e6-41a8-4b62-b510-4042eb3c7726"
      },
      "outputs": [
        {
          "name": "stdout",
          "output_type": "stream",
          "text": [
            "a    10\n",
            "b    20\n",
            "c    30\n",
            "d    40\n",
            "dtype: int64\n",
            "10\n"
          ]
        },
        {
          "data": {
            "text/html": [
              "<div>\n",
              "<style scoped>\n",
              "    .dataframe tbody tr th:only-of-type {\n",
              "        vertical-align: middle;\n",
              "    }\n",
              "\n",
              "    .dataframe tbody tr th {\n",
              "        vertical-align: top;\n",
              "    }\n",
              "\n",
              "    .dataframe thead th {\n",
              "        text-align: right;\n",
              "    }\n",
              "</style>\n",
              "<table border=\"1\" class=\"dataframe\">\n",
              "  <thead>\n",
              "    <tr style=\"text-align: right;\">\n",
              "      <th></th>\n",
              "      <th>0</th>\n",
              "    </tr>\n",
              "  </thead>\n",
              "  <tbody>\n",
              "    <tr>\n",
              "      <th>a</th>\n",
              "      <td>10</td>\n",
              "    </tr>\n",
              "    <tr>\n",
              "      <th>b</th>\n",
              "      <td>20</td>\n",
              "    </tr>\n",
              "    <tr>\n",
              "      <th>c</th>\n",
              "      <td>30</td>\n",
              "    </tr>\n",
              "    <tr>\n",
              "      <th>d</th>\n",
              "      <td>40</td>\n",
              "    </tr>\n",
              "  </tbody>\n",
              "</table>\n",
              "</div>"
            ],
            "text/plain": [
              "    0\n",
              "a  10\n",
              "b  20\n",
              "c  30\n",
              "d  40"
            ]
          },
          "execution_count": 43,
          "metadata": {},
          "output_type": "execute_result"
        }
      ],
      "source": [
        "import pandas as pd\n",
        "\n",
        "# Create a Series\n",
        "s = pd.Series([10, 20, 30, 40], index=['a', 'b', 'c', 'd'])\n",
        "print(s)\n",
        "\n",
        "# Accessing values\n",
        "print(s['a'])  # Output: 10\n",
        "d=pd.DataFrame(s)\n",
        "d"
      ]
    },
    {
      "cell_type": "code",
      "execution_count": null,
      "id": "e731d8e5-5d4e-43ca-8ec4-0ba9530eb341",
      "metadata": {
        "id": "e731d8e5-5d4e-43ca-8ec4-0ba9530eb341",
        "outputId": "d041d897-0b86-43f3-ec61-370d4974f0b4"
      },
      "outputs": [
        {
          "name": "stdout",
          "output_type": "stream",
          "text": [
            "      Name  Age      City\n",
            "0    Alice   25  New York\n",
            "1      Bob   30     Paris\n",
            "2  Charlie   35    London\n"
          ]
        }
      ],
      "source": [
        "# Create a DataFrame\n",
        "data = {'Name': ['Alice', 'Bob', 'Charlie'],\n",
        "        'Age': [25, 30, 35],\n",
        "        'City': ['New York', 'Paris', 'London']}\n",
        "df = pd.DataFrame(data)\n",
        "print(df)\n",
        "\n"
      ]
    },
    {
      "cell_type": "code",
      "execution_count": null,
      "id": "a9384f5d-8171-45b1-ad01-9cd830880d83",
      "metadata": {
        "id": "a9384f5d-8171-45b1-ad01-9cd830880d83",
        "outputId": "0eccb17b-c47a-4e42-da0d-c0edca694c30"
      },
      "outputs": [
        {
          "name": "stdout",
          "output_type": "stream",
          "text": [
            "      Name  Age         City\n",
            "0    Alice   25     New York\n",
            "1      Bob   30  Los Angeles\n",
            "2  Charlie   35      Chicago\n"
          ]
        }
      ],
      "source": [
        "data = [\n",
        "    [\"Alice\", 25, \"New York\"],\n",
        "    [\"Bob\", 30, \"Los Angeles\"],\n",
        "    [\"Charlie\", 35, \"Chicago\"]\n",
        "]\n",
        "df = pd.DataFrame(data, columns=[\"Name\", \"Age\", \"City\"])\n",
        "print(df)\n"
      ]
    },
    {
      "cell_type": "code",
      "execution_count": null,
      "id": "1186a9dc-f106-441f-86cb-98c13adc70bc",
      "metadata": {
        "id": "1186a9dc-f106-441f-86cb-98c13adc70bc",
        "outputId": "cd35ce5a-3ee7-4c7c-f12d-19aaf16a5e5c"
      },
      "outputs": [
        {
          "name": "stdout",
          "output_type": "stream",
          "text": [
            "      Name Age         City\n",
            "0    Alice  25     New York\n",
            "1      Bob  30  Los Angeles\n",
            "2  Charlie  35      Chicago\n"
          ]
        }
      ],
      "source": [
        "import numpy as np\n",
        "\n",
        "data = np.array([\n",
        "    [\"Alice\", 25, \"New York\"],\n",
        "    [\"Bob\", 30, \"Los Angeles\"],\n",
        "    [\"Charlie\", 35, \"Chicago\"]\n",
        "])\n",
        "df = pd.DataFrame(data, columns=[\"Name\", \"Age\", \"City\"])\n",
        "print(df)\n"
      ]
    },
    {
      "cell_type": "code",
      "execution_count": null,
      "id": "f07f3e4e-4b12-409d-8478-13465f593f54",
      "metadata": {
        "id": "f07f3e4e-4b12-409d-8478-13465f593f54",
        "outputId": "e8ed1a69-d499-4476-fd28-ea4cdcd99326"
      },
      "outputs": [
        {
          "name": "stdout",
          "output_type": "stream",
          "text": [
            "0      Alice\n",
            "1        Bob\n",
            "2    Charlie\n",
            "Name: Name, dtype: object\n"
          ]
        }
      ],
      "source": [
        "# Accessing columns\n",
        "print(df['Name'])  # Output: Series of names\n"
      ]
    },
    {
      "cell_type": "code",
      "execution_count": null,
      "id": "bb180aa2-87a6-48b7-b04e-dcbf10c31619",
      "metadata": {
        "id": "bb180aa2-87a6-48b7-b04e-dcbf10c31619",
        "outputId": "1c3dfa30-c113-4acf-b0b9-e176413bdc16"
      },
      "outputs": [
        {
          "data": {
            "text/html": [
              "<div>\n",
              "<style scoped>\n",
              "    .dataframe tbody tr th:only-of-type {\n",
              "        vertical-align: middle;\n",
              "    }\n",
              "\n",
              "    .dataframe tbody tr th {\n",
              "        vertical-align: top;\n",
              "    }\n",
              "\n",
              "    .dataframe thead th {\n",
              "        text-align: right;\n",
              "    }\n",
              "</style>\n",
              "<table border=\"1\" class=\"dataframe\">\n",
              "  <thead>\n",
              "    <tr style=\"text-align: right;\">\n",
              "      <th></th>\n",
              "      <th>NAME</th>\n",
              "      <th>CLASS</th>\n",
              "      <th>SECTION</th>\n",
              "      <th>SUB 1</th>\n",
              "      <th>SUB 2</th>\n",
              "      <th>Sub 3</th>\n",
              "      <th>TOTAL</th>\n",
              "    </tr>\n",
              "  </thead>\n",
              "  <tbody>\n",
              "    <tr>\n",
              "      <th>0</th>\n",
              "      <td>MARK</td>\n",
              "      <td>12</td>\n",
              "      <td>A</td>\n",
              "      <td>54</td>\n",
              "      <td>56</td>\n",
              "      <td>99</td>\n",
              "      <td>209</td>\n",
              "    </tr>\n",
              "    <tr>\n",
              "      <th>1</th>\n",
              "      <td>KEVIN</td>\n",
              "      <td>12</td>\n",
              "      <td>A</td>\n",
              "      <td>99</td>\n",
              "      <td>97</td>\n",
              "      <td>100</td>\n",
              "      <td>296</td>\n",
              "    </tr>\n",
              "    <tr>\n",
              "      <th>2</th>\n",
              "      <td>JULIE</td>\n",
              "      <td>12</td>\n",
              "      <td>A</td>\n",
              "      <td>78</td>\n",
              "      <td>67</td>\n",
              "      <td>87</td>\n",
              "      <td>232</td>\n",
              "    </tr>\n",
              "    <tr>\n",
              "      <th>3</th>\n",
              "      <td>EDWARD</td>\n",
              "      <td>12</td>\n",
              "      <td>A</td>\n",
              "      <td>56</td>\n",
              "      <td>67</td>\n",
              "      <td>98</td>\n",
              "      <td>221</td>\n",
              "    </tr>\n",
              "    <tr>\n",
              "      <th>4</th>\n",
              "      <td>LISA</td>\n",
              "      <td>12</td>\n",
              "      <td>A</td>\n",
              "      <td>98</td>\n",
              "      <td>97</td>\n",
              "      <td>98</td>\n",
              "      <td>293</td>\n",
              "    </tr>\n",
              "    <tr>\n",
              "      <th>5</th>\n",
              "      <td>JENNIE</td>\n",
              "      <td>12</td>\n",
              "      <td>A</td>\n",
              "      <td>87</td>\n",
              "      <td>45</td>\n",
              "      <td>56</td>\n",
              "      <td>188</td>\n",
              "    </tr>\n",
              "    <tr>\n",
              "      <th>6</th>\n",
              "      <td>JACK</td>\n",
              "      <td>12</td>\n",
              "      <td>A</td>\n",
              "      <td>45</td>\n",
              "      <td>34</td>\n",
              "      <td>78</td>\n",
              "      <td>157</td>\n",
              "    </tr>\n",
              "    <tr>\n",
              "      <th>7</th>\n",
              "      <td>JASON</td>\n",
              "      <td>12</td>\n",
              "      <td>A</td>\n",
              "      <td>67</td>\n",
              "      <td>56</td>\n",
              "      <td>98</td>\n",
              "      <td>221</td>\n",
              "    </tr>\n",
              "  </tbody>\n",
              "</table>\n",
              "</div>"
            ],
            "text/plain": [
              "     NAME  CLASS SECTION  SUB 1  SUB 2  Sub 3  TOTAL\n",
              "0    MARK     12       A     54     56     99    209\n",
              "1   KEVIN     12       A     99     97    100    296\n",
              "2   JULIE     12       A     78     67     87    232\n",
              "3  EDWARD     12       A     56     67     98    221\n",
              "4    LISA     12       A     98     97     98    293\n",
              "5  JENNIE     12       A     87     45     56    188\n",
              "6    JACK     12       A     45     34     78    157\n",
              "7   JASON     12       A     67     56     98    221"
            ]
          },
          "execution_count": 63,
          "metadata": {},
          "output_type": "execute_result"
        }
      ],
      "source": [
        "# Reading a CSV file\n",
        "df = pd.read_csv('MARKS.csv')\n",
        "\n",
        "'''# Reading an Excel file\n",
        "df = pd.read_excel('data.xlsx')\n",
        "\n",
        "# Reading from a JSON file\n",
        "df = pd.read_json('data.json')\n",
        "'''\n",
        "df"
      ]
    },
    {
      "cell_type": "code",
      "execution_count": null,
      "id": "99da6e7b-bef3-4c2c-9efb-ab8155a69d6d",
      "metadata": {
        "id": "99da6e7b-bef3-4c2c-9efb-ab8155a69d6d",
        "outputId": "cb5d31ef-c014-4652-e741-cd51b2d8d47b"
      },
      "outputs": [
        {
          "name": "stdout",
          "output_type": "stream",
          "text": [
            "     NAME  CLASS SECTION  SUB 1  SUB 2  Sub 3  TOTAL\n",
            "0    MARK     12       A     54     56     99    209\n",
            "1   KEVIN     12       A     99     97    100    296\n",
            "2   JULIE     12       A     78     67     87    232\n",
            "3  EDWARD     12       A     56     67     98    221\n",
            "4    LISA     12       A     98     97     98    293\n"
          ]
        }
      ],
      "source": [
        "# Display the first 5 rows\n",
        "print(df.head())\n"
      ]
    },
    {
      "cell_type": "code",
      "execution_count": null,
      "id": "f39818b9-8496-4d3f-98ff-9d1567380e6e",
      "metadata": {
        "id": "f39818b9-8496-4d3f-98ff-9d1567380e6e",
        "outputId": "935f60bd-1a41-445b-8496-3cfd12e42ea1"
      },
      "outputs": [
        {
          "name": "stdout",
          "output_type": "stream",
          "text": [
            "     NAME  CLASS SECTION  SUB 1  SUB 2  Sub 3  TOTAL\n",
            "3  EDWARD     12       A     56     67     98    221\n",
            "4    LISA     12       A     98     97     98    293\n",
            "5  JENNIE     12       A     87     45     56    188\n",
            "6    JACK     12       A     45     34     78    157\n",
            "7   JASON     12       A     67     56     98    221\n"
          ]
        }
      ],
      "source": [
        "# Display the last 5 rows\n",
        "print(df.tail())"
      ]
    },
    {
      "cell_type": "code",
      "execution_count": null,
      "id": "e525cab1-5af6-4a51-a07e-12431ad76d2f",
      "metadata": {
        "id": "e525cab1-5af6-4a51-a07e-12431ad76d2f",
        "outputId": "d0c6d059-8c35-445e-ac80-460567d6176e"
      },
      "outputs": [
        {
          "name": "stdout",
          "output_type": "stream",
          "text": [
            "<class 'pandas.core.frame.DataFrame'>\n",
            "RangeIndex: 8 entries, 0 to 7\n",
            "Data columns (total 7 columns):\n",
            " #   Column   Non-Null Count  Dtype \n",
            "---  ------   --------------  ----- \n",
            " 0   NAME     8 non-null      object\n",
            " 1   CLASS    8 non-null      int64 \n",
            " 2   SECTION  8 non-null      object\n",
            " 3   SUB 1    8 non-null      int64 \n",
            " 4   SUB 2    8 non-null      int64 \n",
            " 5   Sub 3    8 non-null      int64 \n",
            " 6   TOTAL    8 non-null      int64 \n",
            "dtypes: int64(5), object(2)\n",
            "memory usage: 580.0+ bytes\n",
            "None\n"
          ]
        }
      ],
      "source": [
        "# General information about the DataFrame\n",
        "print(df.info())"
      ]
    },
    {
      "cell_type": "code",
      "execution_count": null,
      "id": "2016e108-b784-42b1-813b-96c6ab727d4a",
      "metadata": {
        "id": "2016e108-b784-42b1-813b-96c6ab727d4a",
        "outputId": "d338c98b-68bb-438d-b813-354850e7c2cf"
      },
      "outputs": [
        {
          "name": "stdout",
          "output_type": "stream",
          "text": [
            "       CLASS      SUB 1      SUB 2       Sub 3       TOTAL\n",
            "count    8.0   8.000000   8.000000    8.000000    8.000000\n",
            "mean    12.0  73.000000  64.875000   89.250000  227.125000\n",
            "std      0.0  20.674346  22.611233   15.480402   47.747663\n",
            "min     12.0  45.000000  34.000000   56.000000  157.000000\n",
            "25%     12.0  55.500000  53.250000   84.750000  203.750000\n",
            "50%     12.0  72.500000  61.500000   98.000000  221.000000\n",
            "75%     12.0  89.750000  74.500000   98.250000  247.250000\n",
            "max     12.0  99.000000  97.000000  100.000000  296.000000\n"
          ]
        }
      ],
      "source": [
        "# Summary statistics\n",
        "print(df.describe())"
      ]
    },
    {
      "cell_type": "code",
      "execution_count": null,
      "id": "e37010a0-0cf2-4918-b67f-dd4fb440ecc9",
      "metadata": {
        "id": "e37010a0-0cf2-4918-b67f-dd4fb440ecc9",
        "outputId": "1ab38fc1-b2a2-4bd6-c725-4a3fd77f6aa9"
      },
      "outputs": [
        {
          "name": "stdout",
          "output_type": "stream",
          "text": [
            "     NAME  CLASS SECTION  SUB 1  SUB 2  Sub 3  TOTAL\n",
            "0    MARK     12       A     54     56     99    209\n",
            "1   KEVIN     12       A     99     97    100    296\n",
            "2   JULIE     12       A     78     67     87    232\n",
            "3  EDWARD     12       A     56     67     98    221\n",
            "4    LISA     12       A     98     97     98    293\n",
            "5  JENNIE     12       A     87     45     56    188\n",
            "6    JACK     12       A     45     34     78    157\n",
            "7   JASON     12       A     67     56     98    221\n"
          ]
        }
      ],
      "source": [
        "print(df)"
      ]
    },
    {
      "cell_type": "code",
      "execution_count": null,
      "id": "4e3cc35e-e031-4588-9901-d75b355e1c3d",
      "metadata": {
        "id": "4e3cc35e-e031-4588-9901-d75b355e1c3d",
        "outputId": "880cc543-c48e-456d-91a4-45783680eb5f"
      },
      "outputs": [
        {
          "name": "stdout",
          "output_type": "stream",
          "text": [
            "    NAME  CLASS SECTION  SUB 1  SUB 2  Sub 3  TOTAL\n",
            "1  KEVIN     12       A     99     97    100    296\n",
            "2  JULIE     12       A     78     67     87    232\n",
            "4   LISA     12       A     98     97     98    293\n"
          ]
        }
      ],
      "source": [
        "# Filter rows where total > 230\n",
        "filtered = df[df['TOTAL'] > 230]\n",
        "print(filtered)\n"
      ]
    },
    {
      "cell_type": "code",
      "execution_count": null,
      "id": "e28d3770-7907-464a-a24c-eeea91700098",
      "metadata": {
        "id": "e28d3770-7907-464a-a24c-eeea91700098",
        "outputId": "72125a6f-542c-43fb-8450-2131e9aa6c9f"
      },
      "outputs": [
        {
          "data": {
            "text/html": [
              "<div>\n",
              "<style scoped>\n",
              "    .dataframe tbody tr th:only-of-type {\n",
              "        vertical-align: middle;\n",
              "    }\n",
              "\n",
              "    .dataframe tbody tr th {\n",
              "        vertical-align: top;\n",
              "    }\n",
              "\n",
              "    .dataframe thead th {\n",
              "        text-align: right;\n",
              "    }\n",
              "</style>\n",
              "<table border=\"1\" class=\"dataframe\">\n",
              "  <thead>\n",
              "    <tr style=\"text-align: right;\">\n",
              "      <th></th>\n",
              "      <th>NAME</th>\n",
              "      <th>CLASS</th>\n",
              "      <th>SECTION</th>\n",
              "      <th>SUB 1</th>\n",
              "      <th>SUB 2</th>\n",
              "      <th>Sub 3</th>\n",
              "      <th>TOTAL</th>\n",
              "      <th>GENDER</th>\n",
              "    </tr>\n",
              "  </thead>\n",
              "  <tbody>\n",
              "    <tr>\n",
              "      <th>0</th>\n",
              "      <td>MARK</td>\n",
              "      <td>10</td>\n",
              "      <td>A</td>\n",
              "      <td>54</td>\n",
              "      <td>56</td>\n",
              "      <td>99</td>\n",
              "      <td>209</td>\n",
              "      <td>M</td>\n",
              "    </tr>\n",
              "    <tr>\n",
              "      <th>1</th>\n",
              "      <td>KEVIN</td>\n",
              "      <td>10</td>\n",
              "      <td>A</td>\n",
              "      <td>99</td>\n",
              "      <td>97</td>\n",
              "      <td>100</td>\n",
              "      <td>296</td>\n",
              "      <td>M</td>\n",
              "    </tr>\n",
              "    <tr>\n",
              "      <th>2</th>\n",
              "      <td>JULIE</td>\n",
              "      <td>10</td>\n",
              "      <td>A</td>\n",
              "      <td>78</td>\n",
              "      <td>67</td>\n",
              "      <td>87</td>\n",
              "      <td>232</td>\n",
              "      <td>M</td>\n",
              "    </tr>\n",
              "    <tr>\n",
              "      <th>3</th>\n",
              "      <td>EDWARD</td>\n",
              "      <td>10</td>\n",
              "      <td>A</td>\n",
              "      <td>56</td>\n",
              "      <td>67</td>\n",
              "      <td>98</td>\n",
              "      <td>221</td>\n",
              "      <td>F</td>\n",
              "    </tr>\n",
              "    <tr>\n",
              "      <th>4</th>\n",
              "      <td>LISA</td>\n",
              "      <td>12</td>\n",
              "      <td>A</td>\n",
              "      <td>98</td>\n",
              "      <td>97</td>\n",
              "      <td>98</td>\n",
              "      <td>293</td>\n",
              "      <td>F</td>\n",
              "    </tr>\n",
              "    <tr>\n",
              "      <th>5</th>\n",
              "      <td>JENNIE</td>\n",
              "      <td>10</td>\n",
              "      <td>A</td>\n",
              "      <td>87</td>\n",
              "      <td>45</td>\n",
              "      <td>56</td>\n",
              "      <td>188</td>\n",
              "      <td>M</td>\n",
              "    </tr>\n",
              "    <tr>\n",
              "      <th>6</th>\n",
              "      <td>JACK</td>\n",
              "      <td>10</td>\n",
              "      <td>A</td>\n",
              "      <td>45</td>\n",
              "      <td>34</td>\n",
              "      <td>78</td>\n",
              "      <td>157</td>\n",
              "      <td>M</td>\n",
              "    </tr>\n",
              "    <tr>\n",
              "      <th>7</th>\n",
              "      <td>JASON</td>\n",
              "      <td>10</td>\n",
              "      <td>A</td>\n",
              "      <td>67</td>\n",
              "      <td>56</td>\n",
              "      <td>98</td>\n",
              "      <td>221</td>\n",
              "      <td>M</td>\n",
              "    </tr>\n",
              "  </tbody>\n",
              "</table>\n",
              "</div>"
            ],
            "text/plain": [
              "     NAME  CLASS SECTION  SUB 1  SUB 2  Sub 3  TOTAL GENDER\n",
              "0    MARK     10       A     54     56     99    209      M\n",
              "1   KEVIN     10       A     99     97    100    296      M\n",
              "2   JULIE     10       A     78     67     87    232      M\n",
              "3  EDWARD     10       A     56     67     98    221      F\n",
              "4    LISA     12       A     98     97     98    293      F\n",
              "5  JENNIE     10       A     87     45     56    188      M\n",
              "6    JACK     10       A     45     34     78    157      M\n",
              "7   JASON     10       A     67     56     98    221      M"
            ]
          },
          "execution_count": 67,
          "metadata": {},
          "output_type": "execute_result"
        }
      ],
      "source": [
        "# Add a new column\n",
        "GENDER = [\"M\", \"M\",\"M\",\"F\",\"F\",\"M\", \"M\",\"M\"]\n",
        "df['GENDER']=GENDER\n",
        "\n",
        "# Modify an existing column\n",
        "df['CLASS'] = df['CLASS'] - 2\n",
        "\n",
        "df.at[4,'CLASS']=12\n",
        "\n",
        "df"
      ]
    },
    {
      "cell_type": "code",
      "execution_count": null,
      "id": "3f53fec2-4771-4416-adbe-48fb9e31752d",
      "metadata": {
        "id": "3f53fec2-4771-4416-adbe-48fb9e31752d",
        "outputId": "865033b0-7c4d-40bb-bcdb-7a444bb92c26"
      },
      "outputs": [
        {
          "data": {
            "text/html": [
              "<div>\n",
              "<style scoped>\n",
              "    .dataframe tbody tr th:only-of-type {\n",
              "        vertical-align: middle;\n",
              "    }\n",
              "\n",
              "    .dataframe tbody tr th {\n",
              "        vertical-align: top;\n",
              "    }\n",
              "\n",
              "    .dataframe thead th {\n",
              "        text-align: right;\n",
              "    }\n",
              "</style>\n",
              "<table border=\"1\" class=\"dataframe\">\n",
              "  <thead>\n",
              "    <tr style=\"text-align: right;\">\n",
              "      <th></th>\n",
              "      <th>NAME</th>\n",
              "      <th>CLASS</th>\n",
              "      <th>SECTION</th>\n",
              "      <th>SUB 1</th>\n",
              "      <th>SUB 2</th>\n",
              "      <th>Sub 3</th>\n",
              "      <th>TOTAL</th>\n",
              "      <th>GENDER</th>\n",
              "    </tr>\n",
              "  </thead>\n",
              "  <tbody>\n",
              "    <tr>\n",
              "      <th>0</th>\n",
              "      <td>MARK</td>\n",
              "      <td>10</td>\n",
              "      <td>A</td>\n",
              "      <td>54</td>\n",
              "      <td>56</td>\n",
              "      <td>99</td>\n",
              "      <td>209</td>\n",
              "      <td>M</td>\n",
              "    </tr>\n",
              "    <tr>\n",
              "      <th>1</th>\n",
              "      <td>KEVIN</td>\n",
              "      <td>10</td>\n",
              "      <td>A</td>\n",
              "      <td>99</td>\n",
              "      <td>97</td>\n",
              "      <td>100</td>\n",
              "      <td>296</td>\n",
              "      <td>M</td>\n",
              "    </tr>\n",
              "    <tr>\n",
              "      <th>2</th>\n",
              "      <td>JULIE</td>\n",
              "      <td>10</td>\n",
              "      <td>A</td>\n",
              "      <td>78</td>\n",
              "      <td>67</td>\n",
              "      <td>87</td>\n",
              "      <td>232</td>\n",
              "      <td>M</td>\n",
              "    </tr>\n",
              "    <tr>\n",
              "      <th>3</th>\n",
              "      <td>EDWARD</td>\n",
              "      <td>10</td>\n",
              "      <td>A</td>\n",
              "      <td>56</td>\n",
              "      <td>67</td>\n",
              "      <td>98</td>\n",
              "      <td>221</td>\n",
              "      <td>F</td>\n",
              "    </tr>\n",
              "    <tr>\n",
              "      <th>4</th>\n",
              "      <td>LISA</td>\n",
              "      <td>12</td>\n",
              "      <td>A</td>\n",
              "      <td>98</td>\n",
              "      <td>97</td>\n",
              "      <td>98</td>\n",
              "      <td>293</td>\n",
              "      <td>F</td>\n",
              "    </tr>\n",
              "    <tr>\n",
              "      <th>5</th>\n",
              "      <td>JENNIE</td>\n",
              "      <td>10</td>\n",
              "      <td>A</td>\n",
              "      <td>87</td>\n",
              "      <td>45</td>\n",
              "      <td>56</td>\n",
              "      <td>188</td>\n",
              "      <td>M</td>\n",
              "    </tr>\n",
              "    <tr>\n",
              "      <th>6</th>\n",
              "      <td>JACK</td>\n",
              "      <td>10</td>\n",
              "      <td>A</td>\n",
              "      <td>85</td>\n",
              "      <td>98</td>\n",
              "      <td>75</td>\n",
              "      <td>157</td>\n",
              "      <td>M</td>\n",
              "    </tr>\n",
              "    <tr>\n",
              "      <th>7</th>\n",
              "      <td>JASON</td>\n",
              "      <td>10</td>\n",
              "      <td>A</td>\n",
              "      <td>67</td>\n",
              "      <td>56</td>\n",
              "      <td>98</td>\n",
              "      <td>221</td>\n",
              "      <td>M</td>\n",
              "    </tr>\n",
              "  </tbody>\n",
              "</table>\n",
              "</div>"
            ],
            "text/plain": [
              "     NAME  CLASS SECTION  SUB 1  SUB 2  Sub 3  TOTAL GENDER\n",
              "0    MARK     10       A     54     56     99    209      M\n",
              "1   KEVIN     10       A     99     97    100    296      M\n",
              "2   JULIE     10       A     78     67     87    232      M\n",
              "3  EDWARD     10       A     56     67     98    221      F\n",
              "4    LISA     12       A     98     97     98    293      F\n",
              "5  JENNIE     10       A     87     45     56    188      M\n",
              "6    JACK     10       A     85     98     75    157      M\n",
              "7   JASON     10       A     67     56     98    221      M"
            ]
          },
          "execution_count": 69,
          "metadata": {},
          "output_type": "execute_result"
        }
      ],
      "source": [
        "df.loc[6,['SUB 1','SUB 2','Sub 3']]=[85,98,75]\n",
        "df"
      ]
    },
    {
      "cell_type": "code",
      "execution_count": null,
      "id": "f8931040-5c2e-4a27-bab2-abcdedc6b39a",
      "metadata": {
        "id": "f8931040-5c2e-4a27-bab2-abcdedc6b39a",
        "outputId": "a1ee31b3-6960-40e1-d887-79a4af8e6981"
      },
      "outputs": [
        {
          "name": "stdout",
          "output_type": "stream",
          "text": [
            "      NAME  CLASS SECTION  SUB 1  SUB 2  Sub 3  TOTAL GENDER\n",
            "0     MARK     10       A     54     56     99    209      M\n",
            "1    KEVIN     10       A     99     97    100    296      M\n",
            "2    JULIE     10       A     78     67     87    232      M\n",
            "3   EDWARD     10       A     56     67     98    221      F\n",
            "4     LISA     10       A     98     97     98    293      F\n",
            "5   JENNIE     10       A     87     45     56    188      M\n",
            "6     JACK     10       A     45     34     78    157      M\n",
            "7    JASON     10       A     67     56     98    221      M\n",
            "8  Charlie     10       A     35     65     75    175      M\n"
          ]
        }
      ],
      "source": [
        "df.loc[len(df)] = ['Charlie', 10, 'A',35,65,75,175,\"M\"]\n",
        "print(df)"
      ]
    },
    {
      "cell_type": "code",
      "execution_count": null,
      "id": "4492771a-a6f5-4663-9546-4a3a984a4e87",
      "metadata": {
        "id": "4492771a-a6f5-4663-9546-4a3a984a4e87",
        "outputId": "1950524b-5eb3-45ff-d02c-5997aa4eb93c"
      },
      "outputs": [
        {
          "name": "stdout",
          "output_type": "stream",
          "text": [
            "     NAME  CLASS SECTION  SUB 1  SUB 2  Sub 3  TOTAL\n",
            "0    MARK     10       A     54     56     99    209\n",
            "1   KEVIN     10       A     99     97    100    296\n",
            "2   JULIE     10       A     78     67     87    232\n",
            "3  EDWARD     10       A     56     67     98    221\n",
            "4    LISA     10       A     98     97     98    293\n",
            "5  JENNIE     10       A     87     45     56    188\n",
            "6    JACK     10       A     45     34     78    157\n",
            "7   JASON     10       A     67     56     98    221\n"
          ]
        }
      ],
      "source": [
        "# Drop a column\n",
        "df = df.drop('GENDER', axis=1)\n",
        "\n",
        "# Drop a row\n",
        "df = df.drop(8, axis=0)  # Drop row with index 1\n",
        "print(df)"
      ]
    },
    {
      "cell_type": "code",
      "execution_count": null,
      "id": "004380b9-b094-4bdb-9aeb-c6e31d961712",
      "metadata": {
        "id": "004380b9-b094-4bdb-9aeb-c6e31d961712"
      },
      "outputs": [],
      "source": []
    }
  ],
  "metadata": {
    "kernelspec": {
      "display_name": "Python 3 (ipykernel)",
      "language": "python",
      "name": "python3"
    },
    "language_info": {
      "codemirror_mode": {
        "name": "ipython",
        "version": 3
      },
      "file_extension": ".py",
      "mimetype": "text/x-python",
      "name": "python",
      "nbconvert_exporter": "python",
      "pygments_lexer": "ipython3",
      "version": "3.12.4"
    },
    "colab": {
      "provenance": [],
      "include_colab_link": true
    }
  },
  "nbformat": 4,
  "nbformat_minor": 5
}